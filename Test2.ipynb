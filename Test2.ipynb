{
 "cells": [
  {
   "cell_type": "code",
   "execution_count": 160,
   "metadata": {},
   "outputs": [],
   "source": [
    "# importing the required modules\n",
    "import os\n",
    "import pandas as pd\n",
    "import xlwings as xw\n",
    "import numpy as np\n",
    "import openpyxl as xl\n",
    "import seaborn as sns\n",
    "import matplotlib.pyplot as plt\n",
    "import plotly.graph_objects as go\n",
    "import plotly.express as px\n",
    "from plotly.subplots import make_subplots\n",
    "def format_number(number):\n",
    "    return f'{number:,.2f}'"
   ]
  },
  {
   "cell_type": "code",
   "execution_count": 161,
   "metadata": {},
   "outputs": [
    {
     "name": "stdout",
     "output_type": "stream",
     "text": [
      "['DBPer19-23', 'DBMaster_23-24', 'DB AC offline', 'DB AC Online', 'DBMaster_23']\n"
     ]
    }
   ],
   "source": [
    "path_file = r\"C:\\Users\\aussa\\OneDrive\\เดสก์ท็อป\\RelationDB\\DB_AT_FC.xlsx\"\n",
    "print(pd.ExcelFile(path_file).sheet_names)"
   ]
  },
  {
   "cell_type": "markdown",
   "metadata": {},
   "source": [
    "### DB Per 19-23"
   ]
  },
  {
   "cell_type": "code",
   "execution_count": 207,
   "metadata": {},
   "outputs": [
    {
     "data": {
      "text/html": [
       "<div>\n",
       "<style scoped>\n",
       "    .dataframe tbody tr th:only-of-type {\n",
       "        vertical-align: middle;\n",
       "    }\n",
       "\n",
       "    .dataframe tbody tr th {\n",
       "        vertical-align: top;\n",
       "    }\n",
       "\n",
       "    .dataframe thead th {\n",
       "        text-align: right;\n",
       "    }\n",
       "</style>\n",
       "<table border=\"1\" class=\"dataframe\">\n",
       "  <thead>\n",
       "    <tr style=\"text-align: right;\">\n",
       "      <th></th>\n",
       "      <th>Year</th>\n",
       "      <th>Group_brand</th>\n",
       "      <th>Brand</th>\n",
       "      <th>Channel</th>\n",
       "      <th>Acc_Name</th>\n",
       "      <th>JAN</th>\n",
       "      <th>FEB</th>\n",
       "      <th>MAR</th>\n",
       "      <th>APR</th>\n",
       "      <th>MAY</th>\n",
       "      <th>...</th>\n",
       "      <th>SEP</th>\n",
       "      <th>OCT</th>\n",
       "      <th>NOV</th>\n",
       "      <th>DEC</th>\n",
       "      <th>M01-12</th>\n",
       "      <th>Q1</th>\n",
       "      <th>Q2</th>\n",
       "      <th>Q3</th>\n",
       "      <th>Q4</th>\n",
       "      <th>Off_On</th>\n",
       "    </tr>\n",
       "  </thead>\n",
       "  <tbody>\n",
       "    <tr>\n",
       "      <th>0</th>\n",
       "      <td>2023</td>\n",
       "      <td>HC&amp;HF</td>\n",
       "      <td>CC</td>\n",
       "      <td>Depart</td>\n",
       "      <td>Cogs</td>\n",
       "      <td>0.0</td>\n",
       "      <td>0.0</td>\n",
       "      <td>0.0</td>\n",
       "      <td>0.0</td>\n",
       "      <td>0.0</td>\n",
       "      <td>...</td>\n",
       "      <td>-11.034833</td>\n",
       "      <td>-2.758708</td>\n",
       "      <td>-3.448385</td>\n",
       "      <td>-4.310482</td>\n",
       "      <td>-21.552409</td>\n",
       "      <td>0.0</td>\n",
       "      <td>0.0</td>\n",
       "      <td>-11.034833</td>\n",
       "      <td>-10.517576</td>\n",
       "      <td>Offline</td>\n",
       "    </tr>\n",
       "    <tr>\n",
       "      <th>1</th>\n",
       "      <td>2023</td>\n",
       "      <td>HC&amp;HF</td>\n",
       "      <td>CC</td>\n",
       "      <td>Depart</td>\n",
       "      <td>Discount</td>\n",
       "      <td>0.0</td>\n",
       "      <td>0.0</td>\n",
       "      <td>0.0</td>\n",
       "      <td>0.0</td>\n",
       "      <td>0.0</td>\n",
       "      <td>...</td>\n",
       "      <td>-14.463856</td>\n",
       "      <td>-3.615964</td>\n",
       "      <td>-4.519955</td>\n",
       "      <td>-5.649944</td>\n",
       "      <td>-28.249718</td>\n",
       "      <td>0.0</td>\n",
       "      <td>0.0</td>\n",
       "      <td>-14.463856</td>\n",
       "      <td>-13.785862</td>\n",
       "      <td>Offline</td>\n",
       "    </tr>\n",
       "    <tr>\n",
       "      <th>2</th>\n",
       "      <td>2023</td>\n",
       "      <td>HC&amp;HF</td>\n",
       "      <td>CC</td>\n",
       "      <td>Depart</td>\n",
       "      <td>Gross Profit</td>\n",
       "      <td>0.0</td>\n",
       "      <td>0.0</td>\n",
       "      <td>0.0</td>\n",
       "      <td>0.0</td>\n",
       "      <td>0.0</td>\n",
       "      <td>...</td>\n",
       "      <td>10.638378</td>\n",
       "      <td>2.659594</td>\n",
       "      <td>3.324493</td>\n",
       "      <td>4.155616</td>\n",
       "      <td>20.778082</td>\n",
       "      <td>0.0</td>\n",
       "      <td>0.0</td>\n",
       "      <td>10.638378</td>\n",
       "      <td>10.139704</td>\n",
       "      <td>Offline</td>\n",
       "    </tr>\n",
       "    <tr>\n",
       "      <th>3</th>\n",
       "      <td>2023</td>\n",
       "      <td>HC&amp;HF</td>\n",
       "      <td>CC</td>\n",
       "      <td>Depart</td>\n",
       "      <td>Net Sale</td>\n",
       "      <td>0.0</td>\n",
       "      <td>0.0</td>\n",
       "      <td>0.0</td>\n",
       "      <td>0.0</td>\n",
       "      <td>0.0</td>\n",
       "      <td>...</td>\n",
       "      <td>21.673211</td>\n",
       "      <td>5.418303</td>\n",
       "      <td>6.772878</td>\n",
       "      <td>8.466098</td>\n",
       "      <td>42.330490</td>\n",
       "      <td>0.0</td>\n",
       "      <td>0.0</td>\n",
       "      <td>21.673211</td>\n",
       "      <td>20.657279</td>\n",
       "      <td>Offline</td>\n",
       "    </tr>\n",
       "    <tr>\n",
       "      <th>4</th>\n",
       "      <td>2023</td>\n",
       "      <td>HC&amp;HF</td>\n",
       "      <td>CC</td>\n",
       "      <td>Depart</td>\n",
       "      <td>Sale</td>\n",
       "      <td>0.0</td>\n",
       "      <td>0.0</td>\n",
       "      <td>0.0</td>\n",
       "      <td>0.0</td>\n",
       "      <td>0.0</td>\n",
       "      <td>...</td>\n",
       "      <td>36.137067</td>\n",
       "      <td>9.034267</td>\n",
       "      <td>11.292833</td>\n",
       "      <td>14.116042</td>\n",
       "      <td>70.580208</td>\n",
       "      <td>0.0</td>\n",
       "      <td>0.0</td>\n",
       "      <td>36.137067</td>\n",
       "      <td>34.443142</td>\n",
       "      <td>Offline</td>\n",
       "    </tr>\n",
       "  </tbody>\n",
       "</table>\n",
       "<p>5 rows × 23 columns</p>\n",
       "</div>"
      ],
      "text/plain": [
       "   Year Group_brand Brand Channel      Acc_Name  JAN  FEB  MAR  APR  MAY  ...  \\\n",
       "0  2023       HC&HF    CC  Depart          Cogs  0.0  0.0  0.0  0.0  0.0  ...   \n",
       "1  2023       HC&HF    CC  Depart      Discount  0.0  0.0  0.0  0.0  0.0  ...   \n",
       "2  2023       HC&HF    CC  Depart  Gross Profit  0.0  0.0  0.0  0.0  0.0  ...   \n",
       "3  2023       HC&HF    CC  Depart      Net Sale  0.0  0.0  0.0  0.0  0.0  ...   \n",
       "4  2023       HC&HF    CC  Depart          Sale  0.0  0.0  0.0  0.0  0.0  ...   \n",
       "\n",
       "         SEP       OCT        NOV        DEC     M01-12   Q1   Q2         Q3  \\\n",
       "0 -11.034833 -2.758708  -3.448385  -4.310482 -21.552409  0.0  0.0 -11.034833   \n",
       "1 -14.463856 -3.615964  -4.519955  -5.649944 -28.249718  0.0  0.0 -14.463856   \n",
       "2  10.638378  2.659594   3.324493   4.155616  20.778082  0.0  0.0  10.638378   \n",
       "3  21.673211  5.418303   6.772878   8.466098  42.330490  0.0  0.0  21.673211   \n",
       "4  36.137067  9.034267  11.292833  14.116042  70.580208  0.0  0.0  36.137067   \n",
       "\n",
       "          Q4   Off_On  \n",
       "0 -10.517576  Offline  \n",
       "1 -13.785862  Offline  \n",
       "2  10.139704  Offline  \n",
       "3  20.657279  Offline  \n",
       "4  34.443142  Offline  \n",
       "\n",
       "[5 rows x 23 columns]"
      ]
     },
     "metadata": {},
     "output_type": "display_data"
    }
   ],
   "source": [
    "df1 = pd.read_excel(path_file, engine=\"openpyxl\", sheet_name='DBPer19-23')\n",
    "df1['AT_FC'] = df1['AT_FC'].astype('str')\n",
    "df1.rename(columns={'AT_FC': 'Year', 'ACC_Name': 'Acc_Name', 'Group_Brand': 'Group_brand'}, inplace=True)\n",
    "df1['Group_brand'].replace({'ROX1': 'ROX', 'ROX2': 'ROX'}, inplace=True)\n",
    "df1['Channel'].replace({'DEPART': 'Depart', 'EVENT': 'Event', 'ONLINE': 'Online', 'SHOP': 'Shop', 'WHOLESALE': 'Wholesales'}, inplace=True)\n",
    "df1['Off_On'] = df1.apply(lambda d: d['Channel'] if d['Channel'] == 'Online' else 'Offline', axis=1)\n",
    "display(df1.head())"
   ]
  },
  {
   "cell_type": "markdown",
   "metadata": {},
   "source": [
    "### DB Master 23-24"
   ]
  },
  {
   "cell_type": "code",
   "execution_count": 245,
   "metadata": {},
   "outputs": [
    {
     "data": {
      "text/html": [
       "<div>\n",
       "<style scoped>\n",
       "    .dataframe tbody tr th:only-of-type {\n",
       "        vertical-align: middle;\n",
       "    }\n",
       "\n",
       "    .dataframe tbody tr th {\n",
       "        vertical-align: top;\n",
       "    }\n",
       "\n",
       "    .dataframe thead th {\n",
       "        text-align: right;\n",
       "    }\n",
       "</style>\n",
       "<table border=\"1\" class=\"dataframe\">\n",
       "  <thead>\n",
       "    <tr style=\"text-align: right;\">\n",
       "      <th></th>\n",
       "      <th>Brand</th>\n",
       "      <th>Acc_Name</th>\n",
       "      <th>2023 Offline Total</th>\n",
       "      <th>2023 Online Total</th>\n",
       "      <th>Total Yr2023</th>\n",
       "      <th>2024 Offline Total</th>\n",
       "      <th>2024 Online Total</th>\n",
       "      <th>Total Yr2024</th>\n",
       "      <th>Ofline Center</th>\n",
       "      <th>Depart</th>\n",
       "      <th>Shop</th>\n",
       "      <th>Event</th>\n",
       "      <th>Wholesales</th>\n",
       "      <th>Online Center</th>\n",
       "      <th>Online</th>\n",
       "      <th>Brand_Code</th>\n",
       "      <th>Group_brand</th>\n",
       "    </tr>\n",
       "  </thead>\n",
       "  <tbody>\n",
       "    <tr>\n",
       "      <th>0</th>\n",
       "      <td>ER</td>\n",
       "      <td>Sale</td>\n",
       "      <td>2734.852694</td>\n",
       "      <td>6119.738135</td>\n",
       "      <td>8854.590829</td>\n",
       "      <td>16817.468568</td>\n",
       "      <td>41444.855798</td>\n",
       "      <td>58262.324366</td>\n",
       "      <td>0.0</td>\n",
       "      <td>0.0</td>\n",
       "      <td>7987.705807</td>\n",
       "      <td>2661.538462</td>\n",
       "      <td>6168.224299</td>\n",
       "      <td>0.0</td>\n",
       "      <td>41444.855798</td>\n",
       "      <td>3830.0</td>\n",
       "      <td>ROX</td>\n",
       "    </tr>\n",
       "    <tr>\n",
       "      <th>1</th>\n",
       "      <td>ER</td>\n",
       "      <td>Discount</td>\n",
       "      <td>1205.319319</td>\n",
       "      <td>2151.990313</td>\n",
       "      <td>3357.309632</td>\n",
       "      <td>5818.643490</td>\n",
       "      <td>14938.347152</td>\n",
       "      <td>20756.990642</td>\n",
       "      <td>0.0</td>\n",
       "      <td>0.0</td>\n",
       "      <td>2111.404093</td>\n",
       "      <td>931.538462</td>\n",
       "      <td>2775.700935</td>\n",
       "      <td>0.0</td>\n",
       "      <td>14938.347152</td>\n",
       "      <td>3830.0</td>\n",
       "      <td>ROX</td>\n",
       "    </tr>\n",
       "    <tr>\n",
       "      <th>2</th>\n",
       "      <td>ER</td>\n",
       "      <td>Net Sale</td>\n",
       "      <td>1529.533376</td>\n",
       "      <td>3967.747822</td>\n",
       "      <td>5497.281198</td>\n",
       "      <td>10998.825078</td>\n",
       "      <td>26506.508646</td>\n",
       "      <td>37505.333724</td>\n",
       "      <td>0.0</td>\n",
       "      <td>0.0</td>\n",
       "      <td>5876.301714</td>\n",
       "      <td>1730.000000</td>\n",
       "      <td>3392.523364</td>\n",
       "      <td>0.0</td>\n",
       "      <td>26506.508646</td>\n",
       "      <td>3830.0</td>\n",
       "      <td>ROX</td>\n",
       "    </tr>\n",
       "    <tr>\n",
       "      <th>3</th>\n",
       "      <td>ER</td>\n",
       "      <td>Cogs</td>\n",
       "      <td>912.048644</td>\n",
       "      <td>2259.582395</td>\n",
       "      <td>3171.631039</td>\n",
       "      <td>5823.524714</td>\n",
       "      <td>14351.454920</td>\n",
       "      <td>20174.979635</td>\n",
       "      <td>0.0</td>\n",
       "      <td>0.0</td>\n",
       "      <td>2765.969325</td>\n",
       "      <td>921.633059</td>\n",
       "      <td>2135.922330</td>\n",
       "      <td>0.0</td>\n",
       "      <td>14351.454920</td>\n",
       "      <td>3830.0</td>\n",
       "      <td>ROX</td>\n",
       "    </tr>\n",
       "    <tr>\n",
       "      <th>4</th>\n",
       "      <td>ER</td>\n",
       "      <td>Gross Profit</td>\n",
       "      <td>617.484732</td>\n",
       "      <td>1708.165427</td>\n",
       "      <td>2325.650159</td>\n",
       "      <td>5175.300364</td>\n",
       "      <td>12155.053726</td>\n",
       "      <td>17330.354089</td>\n",
       "      <td>0.0</td>\n",
       "      <td>0.0</td>\n",
       "      <td>3110.332389</td>\n",
       "      <td>808.366941</td>\n",
       "      <td>1256.601034</td>\n",
       "      <td>0.0</td>\n",
       "      <td>12155.053726</td>\n",
       "      <td>3830.0</td>\n",
       "      <td>ROX</td>\n",
       "    </tr>\n",
       "  </tbody>\n",
       "</table>\n",
       "</div>"
      ],
      "text/plain": [
       "  Brand      Acc_Name  2023 Offline Total  2023 Online Total  Total Yr2023  \\\n",
       "0    ER          Sale         2734.852694        6119.738135   8854.590829   \n",
       "1    ER      Discount         1205.319319        2151.990313   3357.309632   \n",
       "2    ER      Net Sale         1529.533376        3967.747822   5497.281198   \n",
       "3    ER          Cogs          912.048644        2259.582395   3171.631039   \n",
       "4    ER  Gross Profit          617.484732        1708.165427   2325.650159   \n",
       "\n",
       "   2024 Offline Total  2024 Online Total  Total Yr2024  Ofline Center  Depart  \\\n",
       "0        16817.468568       41444.855798  58262.324366            0.0     0.0   \n",
       "1         5818.643490       14938.347152  20756.990642            0.0     0.0   \n",
       "2        10998.825078       26506.508646  37505.333724            0.0     0.0   \n",
       "3         5823.524714       14351.454920  20174.979635            0.0     0.0   \n",
       "4         5175.300364       12155.053726  17330.354089            0.0     0.0   \n",
       "\n",
       "          Shop        Event   Wholesales  Online Center        Online  \\\n",
       "0  7987.705807  2661.538462  6168.224299            0.0  41444.855798   \n",
       "1  2111.404093   931.538462  2775.700935            0.0  14938.347152   \n",
       "2  5876.301714  1730.000000  3392.523364            0.0  26506.508646   \n",
       "3  2765.969325   921.633059  2135.922330            0.0  14351.454920   \n",
       "4  3110.332389   808.366941  1256.601034            0.0  12155.053726   \n",
       "\n",
       "   Brand_Code Group_brand  \n",
       "0      3830.0         ROX  \n",
       "1      3830.0         ROX  \n",
       "2      3830.0         ROX  \n",
       "3      3830.0         ROX  \n",
       "4      3830.0         ROX  "
      ]
     },
     "metadata": {},
     "output_type": "display_data"
    }
   ],
   "source": [
    "df2 = pd.read_excel(path_file, engine=\"openpyxl\", sheet_name='DBMaster_23-24')\n",
    "#df2['AT_FC'] = df2['AT_FC'].astype('str')\n",
    "df2.rename(columns={'AT_FC': 'Year', 'ACC_Name': 'Acc_Name', 'Group_Brand': 'Group_brand'}, inplace=True)\n",
    "display(df2.head())"
   ]
  },
  {
   "cell_type": "markdown",
   "metadata": {},
   "source": [
    "### DB AT Offline"
   ]
  },
  {
   "cell_type": "code",
   "execution_count": 164,
   "metadata": {},
   "outputs": [
    {
     "data": {
      "text/html": [
       "<div>\n",
       "<style scoped>\n",
       "    .dataframe tbody tr th:only-of-type {\n",
       "        vertical-align: middle;\n",
       "    }\n",
       "\n",
       "    .dataframe tbody tr th {\n",
       "        vertical-align: top;\n",
       "    }\n",
       "\n",
       "    .dataframe thead th {\n",
       "        text-align: right;\n",
       "    }\n",
       "</style>\n",
       "<table border=\"1\" class=\"dataframe\">\n",
       "  <thead>\n",
       "    <tr style=\"text-align: right;\">\n",
       "      <th></th>\n",
       "      <th>Brand</th>\n",
       "      <th>Group_brand</th>\n",
       "      <th>Channel</th>\n",
       "      <th>Acc_Name</th>\n",
       "      <th>Jan</th>\n",
       "      <th>Feb</th>\n",
       "      <th>Mar</th>\n",
       "      <th>Apr</th>\n",
       "      <th>May</th>\n",
       "      <th>Jun</th>\n",
       "      <th>...</th>\n",
       "      <th>Aug</th>\n",
       "      <th>Sep</th>\n",
       "      <th>Oct</th>\n",
       "      <th>Nov</th>\n",
       "      <th>Dec</th>\n",
       "      <th>YTD</th>\n",
       "      <th>Q1</th>\n",
       "      <th>Q2</th>\n",
       "      <th>Q3</th>\n",
       "      <th>Q4</th>\n",
       "    </tr>\n",
       "  </thead>\n",
       "  <tbody>\n",
       "    <tr>\n",
       "      <th>0</th>\n",
       "      <td>NT</td>\n",
       "      <td>TM&amp;NT</td>\n",
       "      <td>Depart</td>\n",
       "      <td>Gross Profit</td>\n",
       "      <td>356.05472</td>\n",
       "      <td>26.46050</td>\n",
       "      <td>435.54015</td>\n",
       "      <td>751.72623</td>\n",
       "      <td>569.69462</td>\n",
       "      <td>541.20214</td>\n",
       "      <td>...</td>\n",
       "      <td>823.00337</td>\n",
       "      <td>833.982617</td>\n",
       "      <td>757.527417</td>\n",
       "      <td>811.608736</td>\n",
       "      <td>806.530535</td>\n",
       "      <td>7545.252574</td>\n",
       "      <td>818.05537</td>\n",
       "      <td>1862.62299</td>\n",
       "      <td>2488.907527</td>\n",
       "      <td>2375.666687</td>\n",
       "    </tr>\n",
       "    <tr>\n",
       "      <th>1</th>\n",
       "      <td>NT</td>\n",
       "      <td>TM&amp;NT</td>\n",
       "      <td>Depart</td>\n",
       "      <td>Net Profit</td>\n",
       "      <td>224.44957</td>\n",
       "      <td>-56.77652</td>\n",
       "      <td>321.27015</td>\n",
       "      <td>649.36881</td>\n",
       "      <td>478.78128</td>\n",
       "      <td>405.53248</td>\n",
       "      <td>...</td>\n",
       "      <td>549.40686</td>\n",
       "      <td>544.871249</td>\n",
       "      <td>495.841333</td>\n",
       "      <td>533.354156</td>\n",
       "      <td>532.884676</td>\n",
       "      <td>5401.258777</td>\n",
       "      <td>488.94320</td>\n",
       "      <td>1533.68257</td>\n",
       "      <td>1816.552842</td>\n",
       "      <td>1562.080165</td>\n",
       "    </tr>\n",
       "    <tr>\n",
       "      <th>2</th>\n",
       "      <td>NT</td>\n",
       "      <td>TM&amp;NT</td>\n",
       "      <td>Depart</td>\n",
       "      <td>Net Sale</td>\n",
       "      <td>613.71413</td>\n",
       "      <td>244.13899</td>\n",
       "      <td>740.68059</td>\n",
       "      <td>1249.46192</td>\n",
       "      <td>936.28426</td>\n",
       "      <td>930.53382</td>\n",
       "      <td>...</td>\n",
       "      <td>1264.43526</td>\n",
       "      <td>1376.720800</td>\n",
       "      <td>1246.124210</td>\n",
       "      <td>1325.021807</td>\n",
       "      <td>1303.075519</td>\n",
       "      <td>12642.998267</td>\n",
       "      <td>1598.53371</td>\n",
       "      <td>3116.28000</td>\n",
       "      <td>4053.963020</td>\n",
       "      <td>3874.221537</td>\n",
       "    </tr>\n",
       "    <tr>\n",
       "      <th>3</th>\n",
       "      <td>NT</td>\n",
       "      <td>TM&amp;NT</td>\n",
       "      <td>Depart</td>\n",
       "      <td>Sale</td>\n",
       "      <td>941.95324</td>\n",
       "      <td>802.58886</td>\n",
       "      <td>1123.56068</td>\n",
       "      <td>1865.10285</td>\n",
       "      <td>1402.64495</td>\n",
       "      <td>1483.51411</td>\n",
       "      <td>...</td>\n",
       "      <td>1931.11218</td>\n",
       "      <td>2036.251467</td>\n",
       "      <td>1914.392362</td>\n",
       "      <td>2022.111925</td>\n",
       "      <td>1975.966983</td>\n",
       "      <td>19705.891296</td>\n",
       "      <td>2868.10278</td>\n",
       "      <td>4751.26191</td>\n",
       "      <td>6174.055337</td>\n",
       "      <td>5912.471269</td>\n",
       "    </tr>\n",
       "    <tr>\n",
       "      <th>4</th>\n",
       "      <td>NT</td>\n",
       "      <td>TM&amp;NT</td>\n",
       "      <td>Depart</td>\n",
       "      <td>Expense</td>\n",
       "      <td>131.60515</td>\n",
       "      <td>83.23702</td>\n",
       "      <td>114.27000</td>\n",
       "      <td>102.35742</td>\n",
       "      <td>90.91334</td>\n",
       "      <td>135.66966</td>\n",
       "      <td>...</td>\n",
       "      <td>273.59651</td>\n",
       "      <td>289.111368</td>\n",
       "      <td>261.686084</td>\n",
       "      <td>278.254580</td>\n",
       "      <td>273.645859</td>\n",
       "      <td>2143.993797</td>\n",
       "      <td>329.11217</td>\n",
       "      <td>328.94042</td>\n",
       "      <td>672.354685</td>\n",
       "      <td>813.586523</td>\n",
       "    </tr>\n",
       "  </tbody>\n",
       "</table>\n",
       "<p>5 rows × 21 columns</p>\n",
       "</div>"
      ],
      "text/plain": [
       "  Brand Group_brand Channel      Acc_Name        Jan        Feb         Mar  \\\n",
       "0    NT       TM&NT  Depart  Gross Profit  356.05472   26.46050   435.54015   \n",
       "1    NT       TM&NT  Depart    Net Profit  224.44957  -56.77652   321.27015   \n",
       "2    NT       TM&NT  Depart      Net Sale  613.71413  244.13899   740.68059   \n",
       "3    NT       TM&NT  Depart          Sale  941.95324  802.58886  1123.56068   \n",
       "4    NT       TM&NT  Depart       Expense  131.60515   83.23702   114.27000   \n",
       "\n",
       "          Apr         May         Jun  ...         Aug          Sep  \\\n",
       "0   751.72623   569.69462   541.20214  ...   823.00337   833.982617   \n",
       "1   649.36881   478.78128   405.53248  ...   549.40686   544.871249   \n",
       "2  1249.46192   936.28426   930.53382  ...  1264.43526  1376.720800   \n",
       "3  1865.10285  1402.64495  1483.51411  ...  1931.11218  2036.251467   \n",
       "4   102.35742    90.91334   135.66966  ...   273.59651   289.111368   \n",
       "\n",
       "           Oct          Nov          Dec           YTD          Q1  \\\n",
       "0   757.527417   811.608736   806.530535   7545.252574   818.05537   \n",
       "1   495.841333   533.354156   532.884676   5401.258777   488.94320   \n",
       "2  1246.124210  1325.021807  1303.075519  12642.998267  1598.53371   \n",
       "3  1914.392362  2022.111925  1975.966983  19705.891296  2868.10278   \n",
       "4   261.686084   278.254580   273.645859   2143.993797   329.11217   \n",
       "\n",
       "           Q2           Q3           Q4  \n",
       "0  1862.62299  2488.907527  2375.666687  \n",
       "1  1533.68257  1816.552842  1562.080165  \n",
       "2  3116.28000  4053.963020  3874.221537  \n",
       "3  4751.26191  6174.055337  5912.471269  \n",
       "4   328.94042   672.354685   813.586523  \n",
       "\n",
       "[5 rows x 21 columns]"
      ]
     },
     "metadata": {},
     "output_type": "display_data"
    }
   ],
   "source": [
    "df3 = pd.read_excel(path_file, engine=\"openpyxl\", sheet_name='DB AC offline')\n",
    "df3.drop(columns='Acc Name.2', inplace=True)\n",
    "df3.rename(columns={'Acc Name.1': 'Acc_Name', 'Group Brand': 'Group_brand'}, inplace=True)\n",
    "df3 = df3[~(df3['Channel'].isin(['Off + On', 'Offline']))]\n",
    "display(df3.head())"
   ]
  },
  {
   "cell_type": "markdown",
   "metadata": {},
   "source": [
    "### DB Master Channel 23"
   ]
  },
  {
   "cell_type": "code",
   "execution_count": 209,
   "metadata": {},
   "outputs": [
    {
     "data": {
      "text/plain": [
       "['Depart', 'Shop', 'Event', 'Wholesales', 'Online']"
      ]
     },
     "metadata": {},
     "output_type": "display_data"
    },
    {
     "data": {
      "text/html": [
       "<div>\n",
       "<style scoped>\n",
       "    .dataframe tbody tr th:only-of-type {\n",
       "        vertical-align: middle;\n",
       "    }\n",
       "\n",
       "    .dataframe tbody tr th {\n",
       "        vertical-align: top;\n",
       "    }\n",
       "\n",
       "    .dataframe thead th {\n",
       "        text-align: right;\n",
       "    }\n",
       "</style>\n",
       "<table border=\"1\" class=\"dataframe\">\n",
       "  <thead>\n",
       "    <tr style=\"text-align: right;\">\n",
       "      <th></th>\n",
       "      <th>Brand</th>\n",
       "      <th>2023 Offline\\nTotal</th>\n",
       "      <th>2023 Online\\nTotal</th>\n",
       "      <th>Total\\nYr2023</th>\n",
       "      <th>2024 Offline\\nTotal</th>\n",
       "      <th>2024 Online\\nTotal</th>\n",
       "      <th>Total\\nYr2024</th>\n",
       "      <th>Acc_Name</th>\n",
       "      <th>Channel</th>\n",
       "      <th>Brand_code</th>\n",
       "      <th>Group_brand</th>\n",
       "      <th>Off_On</th>\n",
       "    </tr>\n",
       "  </thead>\n",
       "  <tbody>\n",
       "    <tr>\n",
       "      <th>0</th>\n",
       "      <td>ER</td>\n",
       "      <td>47.027198</td>\n",
       "      <td>0.0</td>\n",
       "      <td>47.027198</td>\n",
       "      <td>0.0</td>\n",
       "      <td>0.0</td>\n",
       "      <td>0.0</td>\n",
       "      <td>Sale</td>\n",
       "      <td>Depart</td>\n",
       "      <td>3830.0</td>\n",
       "      <td>ROX</td>\n",
       "      <td>Offline</td>\n",
       "    </tr>\n",
       "    <tr>\n",
       "      <th>1</th>\n",
       "      <td>ER</td>\n",
       "      <td>18.070602</td>\n",
       "      <td>0.0</td>\n",
       "      <td>18.070602</td>\n",
       "      <td>0.0</td>\n",
       "      <td>0.0</td>\n",
       "      <td>0.0</td>\n",
       "      <td>Discount</td>\n",
       "      <td>Depart</td>\n",
       "      <td>3830.0</td>\n",
       "      <td>ROX</td>\n",
       "      <td>Offline</td>\n",
       "    </tr>\n",
       "    <tr>\n",
       "      <th>2</th>\n",
       "      <td>ER</td>\n",
       "      <td>28.956597</td>\n",
       "      <td>0.0</td>\n",
       "      <td>28.956597</td>\n",
       "      <td>0.0</td>\n",
       "      <td>0.0</td>\n",
       "      <td>0.0</td>\n",
       "      <td>Net Sale</td>\n",
       "      <td>Depart</td>\n",
       "      <td>3830.0</td>\n",
       "      <td>ROX</td>\n",
       "      <td>Offline</td>\n",
       "    </tr>\n",
       "    <tr>\n",
       "      <th>3</th>\n",
       "      <td>ER</td>\n",
       "      <td>16.428793</td>\n",
       "      <td>0.0</td>\n",
       "      <td>16.428793</td>\n",
       "      <td>0.0</td>\n",
       "      <td>0.0</td>\n",
       "      <td>0.0</td>\n",
       "      <td>Cogs</td>\n",
       "      <td>Depart</td>\n",
       "      <td>3830.0</td>\n",
       "      <td>ROX</td>\n",
       "      <td>Offline</td>\n",
       "    </tr>\n",
       "    <tr>\n",
       "      <th>4</th>\n",
       "      <td>ER</td>\n",
       "      <td>12.527804</td>\n",
       "      <td>0.0</td>\n",
       "      <td>12.527804</td>\n",
       "      <td>0.0</td>\n",
       "      <td>0.0</td>\n",
       "      <td>0.0</td>\n",
       "      <td>Gross Profit</td>\n",
       "      <td>Depart</td>\n",
       "      <td>3830.0</td>\n",
       "      <td>ROX</td>\n",
       "      <td>Offline</td>\n",
       "    </tr>\n",
       "  </tbody>\n",
       "</table>\n",
       "</div>"
      ],
      "text/plain": [
       "  Brand  2023 Offline\\nTotal  2023 Online\\nTotal  Total\\nYr2023  \\\n",
       "0    ER            47.027198                 0.0      47.027198   \n",
       "1    ER            18.070602                 0.0      18.070602   \n",
       "2    ER            28.956597                 0.0      28.956597   \n",
       "3    ER            16.428793                 0.0      16.428793   \n",
       "4    ER            12.527804                 0.0      12.527804   \n",
       "\n",
       "   2024 Offline\\nTotal  2024 Online\\nTotal  Total\\nYr2024      Acc_Name  \\\n",
       "0                  0.0                 0.0            0.0          Sale   \n",
       "1                  0.0                 0.0            0.0      Discount   \n",
       "2                  0.0                 0.0            0.0      Net Sale   \n",
       "3                  0.0                 0.0            0.0          Cogs   \n",
       "4                  0.0                 0.0            0.0  Gross Profit   \n",
       "\n",
       "  Channel  Brand_code Group_brand   Off_On  \n",
       "0  Depart      3830.0         ROX  Offline  \n",
       "1  Depart      3830.0         ROX  Offline  \n",
       "2  Depart      3830.0         ROX  Offline  \n",
       "3  Depart      3830.0         ROX  Offline  \n",
       "4  Depart      3830.0         ROX  Offline  "
      ]
     },
     "metadata": {},
     "output_type": "display_data"
    }
   ],
   "source": [
    "df4 = pd.read_excel(path_file, engine='openpyxl', sheet_name='DBMaster_23')\n",
    "df4.rename(columns={'Brand_Code': 'Brand_code', 'Group_Brand': 'Group_brand', 'ACC_Name': 'Acc_Name'}, inplace=True)\n",
    "df4['Channel'].replace({'SHOP': 'Shop', ' SHOP': 'Shop', 'Depart/A': 'Depart'}, inplace=True)\n",
    "df4['Off_On'] = df4.apply(lambda d: d['Channel'] if d['Channel'] == 'Online' else 'Offline', axis=1)\n",
    "display(df4['Channel'].drop_duplicates().tolist())\n",
    "display(df4.head())"
   ]
  },
  {
   "cell_type": "markdown",
   "metadata": {},
   "source": [
    "### Analyze DB Per 19-23"
   ]
  },
  {
   "cell_type": "code",
   "execution_count": 176,
   "metadata": {},
   "outputs": [
    {
     "data": {
      "text/html": [
       "<div>\n",
       "<style scoped>\n",
       "    .dataframe tbody tr th:only-of-type {\n",
       "        vertical-align: middle;\n",
       "    }\n",
       "\n",
       "    .dataframe tbody tr th {\n",
       "        vertical-align: top;\n",
       "    }\n",
       "\n",
       "    .dataframe thead th {\n",
       "        text-align: right;\n",
       "    }\n",
       "</style>\n",
       "<table border=\"1\" class=\"dataframe\">\n",
       "  <thead>\n",
       "    <tr style=\"text-align: right;\">\n",
       "      <th></th>\n",
       "      <th>Year</th>\n",
       "      <th>Group_brand</th>\n",
       "      <th>Brand</th>\n",
       "      <th>Channel</th>\n",
       "      <th>Acc_Name</th>\n",
       "      <th>M01-12</th>\n",
       "    </tr>\n",
       "  </thead>\n",
       "  <tbody>\n",
       "    <tr>\n",
       "      <th>88</th>\n",
       "      <td>2023</td>\n",
       "      <td>HC&amp;HF</td>\n",
       "      <td>HF</td>\n",
       "      <td>Online</td>\n",
       "      <td>Net Sale</td>\n",
       "      <td>32020.292232</td>\n",
       "    </tr>\n",
       "    <tr>\n",
       "      <th>338</th>\n",
       "      <td>2023</td>\n",
       "      <td>TM&amp;NT</td>\n",
       "      <td>TM</td>\n",
       "      <td>Online</td>\n",
       "      <td>Net Sale</td>\n",
       "      <td>30005.799947</td>\n",
       "    </tr>\n",
       "    <tr>\n",
       "      <th>313</th>\n",
       "      <td>2023</td>\n",
       "      <td>TM&amp;NT</td>\n",
       "      <td>NT</td>\n",
       "      <td>Online</td>\n",
       "      <td>Net Sale</td>\n",
       "      <td>21048.021143</td>\n",
       "    </tr>\n",
       "    <tr>\n",
       "      <th>163</th>\n",
       "      <td>2023</td>\n",
       "      <td>ROX</td>\n",
       "      <td>PS</td>\n",
       "      <td>Online</td>\n",
       "      <td>Net Sale</td>\n",
       "      <td>20237.355946</td>\n",
       "    </tr>\n",
       "    <tr>\n",
       "      <th>343</th>\n",
       "      <td>2023</td>\n",
       "      <td>TM&amp;NT</td>\n",
       "      <td>TM</td>\n",
       "      <td>Shop</td>\n",
       "      <td>Net Sale</td>\n",
       "      <td>19868.855669</td>\n",
       "    </tr>\n",
       "    <tr>\n",
       "      <th>...</th>\n",
       "      <td>...</td>\n",
       "      <td>...</td>\n",
       "      <td>...</td>\n",
       "      <td>...</td>\n",
       "      <td>...</td>\n",
       "      <td>...</td>\n",
       "    </tr>\n",
       "    <tr>\n",
       "      <th>8</th>\n",
       "      <td>2023</td>\n",
       "      <td>HC&amp;HF</td>\n",
       "      <td>CC</td>\n",
       "      <td>Event</td>\n",
       "      <td>Net Sale</td>\n",
       "      <td>0.000000</td>\n",
       "    </tr>\n",
       "    <tr>\n",
       "      <th>48</th>\n",
       "      <td>2023</td>\n",
       "      <td>HC&amp;HF</td>\n",
       "      <td>GL</td>\n",
       "      <td>Wholesale</td>\n",
       "      <td>Net Sale</td>\n",
       "      <td>0.000000</td>\n",
       "    </tr>\n",
       "    <tr>\n",
       "      <th>33</th>\n",
       "      <td>2023</td>\n",
       "      <td>HC&amp;HF</td>\n",
       "      <td>GL</td>\n",
       "      <td>Event</td>\n",
       "      <td>Net Sale</td>\n",
       "      <td>0.000000</td>\n",
       "    </tr>\n",
       "    <tr>\n",
       "      <th>23</th>\n",
       "      <td>2023</td>\n",
       "      <td>HC&amp;HF</td>\n",
       "      <td>CC</td>\n",
       "      <td>Wholesale</td>\n",
       "      <td>Net Sale</td>\n",
       "      <td>0.000000</td>\n",
       "    </tr>\n",
       "    <tr>\n",
       "      <th>348</th>\n",
       "      <td>2023</td>\n",
       "      <td>TM&amp;NT</td>\n",
       "      <td>TM</td>\n",
       "      <td>Wholesale</td>\n",
       "      <td>Net Sale</td>\n",
       "      <td>0.000000</td>\n",
       "    </tr>\n",
       "  </tbody>\n",
       "</table>\n",
       "<p>65 rows × 6 columns</p>\n",
       "</div>"
      ],
      "text/plain": [
       "     Year Group_brand Brand    Channel  Acc_Name        M01-12\n",
       "88   2023       HC&HF    HF     Online  Net Sale  32020.292232\n",
       "338  2023       TM&NT    TM     Online  Net Sale  30005.799947\n",
       "313  2023       TM&NT    NT     Online  Net Sale  21048.021143\n",
       "163  2023         ROX    PS     Online  Net Sale  20237.355946\n",
       "343  2023       TM&NT    TM       Shop  Net Sale  19868.855669\n",
       "..    ...         ...   ...        ...       ...           ...\n",
       "8    2023       HC&HF    CC      Event  Net Sale      0.000000\n",
       "48   2023       HC&HF    GL  Wholesale  Net Sale      0.000000\n",
       "33   2023       HC&HF    GL      Event  Net Sale      0.000000\n",
       "23   2023       HC&HF    CC  Wholesale  Net Sale      0.000000\n",
       "348  2023       TM&NT    TM  Wholesale  Net Sale      0.000000\n",
       "\n",
       "[65 rows x 6 columns]"
      ]
     },
     "execution_count": 176,
     "metadata": {},
     "output_type": "execute_result"
    }
   ],
   "source": [
    "# 2023, Net Sale, M01-12, No CL\n",
    "df1_1 = df1[(df1['Year'] == '2023') & (df1['Acc_Name'].isin(['Net Sale'])) & (df1['Brand'] != 'CL')][df1.columns.values[0: 5].tolist() + ['M01-12']]\n",
    "df1_1 = df1_1.sort_values(by=['M01-12'], ascending=False)\n",
    "df1_1"
   ]
  },
  {
   "cell_type": "code",
   "execution_count": 167,
   "metadata": {},
   "outputs": [
    {
     "data": {
      "text/html": [
       "<div>\n",
       "<style scoped>\n",
       "    .dataframe tbody tr th:only-of-type {\n",
       "        vertical-align: middle;\n",
       "    }\n",
       "\n",
       "    .dataframe tbody tr th {\n",
       "        vertical-align: top;\n",
       "    }\n",
       "\n",
       "    .dataframe thead th {\n",
       "        text-align: right;\n",
       "    }\n",
       "</style>\n",
       "<table border=\"1\" class=\"dataframe\">\n",
       "  <thead>\n",
       "    <tr style=\"text-align: right;\">\n",
       "      <th></th>\n",
       "      <th>Group_brand</th>\n",
       "      <th>Month</th>\n",
       "      <th>Net Sale</th>\n",
       "    </tr>\n",
       "  </thead>\n",
       "  <tbody>\n",
       "    <tr>\n",
       "      <th>0</th>\n",
       "      <td>HC&amp;HF</td>\n",
       "      <td>JAN</td>\n",
       "      <td>9.00</td>\n",
       "    </tr>\n",
       "    <tr>\n",
       "      <th>1</th>\n",
       "      <td>ROX</td>\n",
       "      <td>JAN</td>\n",
       "      <td>18.83</td>\n",
       "    </tr>\n",
       "    <tr>\n",
       "      <th>2</th>\n",
       "      <td>TM&amp;NT</td>\n",
       "      <td>JAN</td>\n",
       "      <td>8.23</td>\n",
       "    </tr>\n",
       "    <tr>\n",
       "      <th>3</th>\n",
       "      <td>HC&amp;HF</td>\n",
       "      <td>FEB</td>\n",
       "      <td>6.72</td>\n",
       "    </tr>\n",
       "    <tr>\n",
       "      <th>4</th>\n",
       "      <td>ROX</td>\n",
       "      <td>FEB</td>\n",
       "      <td>10.15</td>\n",
       "    </tr>\n",
       "    <tr>\n",
       "      <th>5</th>\n",
       "      <td>TM&amp;NT</td>\n",
       "      <td>FEB</td>\n",
       "      <td>6.15</td>\n",
       "    </tr>\n",
       "    <tr>\n",
       "      <th>6</th>\n",
       "      <td>HC&amp;HF</td>\n",
       "      <td>MAR</td>\n",
       "      <td>9.33</td>\n",
       "    </tr>\n",
       "    <tr>\n",
       "      <th>7</th>\n",
       "      <td>ROX</td>\n",
       "      <td>MAR</td>\n",
       "      <td>14.48</td>\n",
       "    </tr>\n",
       "    <tr>\n",
       "      <th>8</th>\n",
       "      <td>TM&amp;NT</td>\n",
       "      <td>MAR</td>\n",
       "      <td>10.21</td>\n",
       "    </tr>\n",
       "    <tr>\n",
       "      <th>9</th>\n",
       "      <td>HC&amp;HF</td>\n",
       "      <td>APR</td>\n",
       "      <td>8.51</td>\n",
       "    </tr>\n",
       "    <tr>\n",
       "      <th>10</th>\n",
       "      <td>ROX</td>\n",
       "      <td>APR</td>\n",
       "      <td>13.73</td>\n",
       "    </tr>\n",
       "    <tr>\n",
       "      <th>11</th>\n",
       "      <td>TM&amp;NT</td>\n",
       "      <td>APR</td>\n",
       "      <td>9.55</td>\n",
       "    </tr>\n",
       "    <tr>\n",
       "      <th>12</th>\n",
       "      <td>HC&amp;HF</td>\n",
       "      <td>MAY</td>\n",
       "      <td>9.31</td>\n",
       "    </tr>\n",
       "    <tr>\n",
       "      <th>13</th>\n",
       "      <td>ROX</td>\n",
       "      <td>MAY</td>\n",
       "      <td>12.65</td>\n",
       "    </tr>\n",
       "    <tr>\n",
       "      <th>14</th>\n",
       "      <td>TM&amp;NT</td>\n",
       "      <td>MAY</td>\n",
       "      <td>10.16</td>\n",
       "    </tr>\n",
       "    <tr>\n",
       "      <th>15</th>\n",
       "      <td>HC&amp;HF</td>\n",
       "      <td>JUN</td>\n",
       "      <td>9.42</td>\n",
       "    </tr>\n",
       "    <tr>\n",
       "      <th>16</th>\n",
       "      <td>ROX</td>\n",
       "      <td>JUN</td>\n",
       "      <td>11.41</td>\n",
       "    </tr>\n",
       "    <tr>\n",
       "      <th>17</th>\n",
       "      <td>TM&amp;NT</td>\n",
       "      <td>JUN</td>\n",
       "      <td>8.91</td>\n",
       "    </tr>\n",
       "    <tr>\n",
       "      <th>18</th>\n",
       "      <td>HC&amp;HF</td>\n",
       "      <td>JUL</td>\n",
       "      <td>9.28</td>\n",
       "    </tr>\n",
       "    <tr>\n",
       "      <th>19</th>\n",
       "      <td>ROX</td>\n",
       "      <td>JUL</td>\n",
       "      <td>11.84</td>\n",
       "    </tr>\n",
       "    <tr>\n",
       "      <th>20</th>\n",
       "      <td>TM&amp;NT</td>\n",
       "      <td>JUL</td>\n",
       "      <td>10.03</td>\n",
       "    </tr>\n",
       "    <tr>\n",
       "      <th>21</th>\n",
       "      <td>HC&amp;HF</td>\n",
       "      <td>AUG</td>\n",
       "      <td>10.07</td>\n",
       "    </tr>\n",
       "    <tr>\n",
       "      <th>22</th>\n",
       "      <td>ROX</td>\n",
       "      <td>AUG</td>\n",
       "      <td>11.42</td>\n",
       "    </tr>\n",
       "    <tr>\n",
       "      <th>23</th>\n",
       "      <td>TM&amp;NT</td>\n",
       "      <td>AUG</td>\n",
       "      <td>9.60</td>\n",
       "    </tr>\n",
       "    <tr>\n",
       "      <th>24</th>\n",
       "      <td>HC&amp;HF</td>\n",
       "      <td>SEP</td>\n",
       "      <td>11.24</td>\n",
       "    </tr>\n",
       "    <tr>\n",
       "      <th>25</th>\n",
       "      <td>ROX</td>\n",
       "      <td>SEP</td>\n",
       "      <td>9.43</td>\n",
       "    </tr>\n",
       "    <tr>\n",
       "      <th>26</th>\n",
       "      <td>TM&amp;NT</td>\n",
       "      <td>SEP</td>\n",
       "      <td>11.00</td>\n",
       "    </tr>\n",
       "    <tr>\n",
       "      <th>27</th>\n",
       "      <td>HC&amp;HF</td>\n",
       "      <td>OCT</td>\n",
       "      <td>11.53</td>\n",
       "    </tr>\n",
       "    <tr>\n",
       "      <th>28</th>\n",
       "      <td>ROX</td>\n",
       "      <td>OCT</td>\n",
       "      <td>12.08</td>\n",
       "    </tr>\n",
       "    <tr>\n",
       "      <th>29</th>\n",
       "      <td>TM&amp;NT</td>\n",
       "      <td>OCT</td>\n",
       "      <td>9.89</td>\n",
       "    </tr>\n",
       "    <tr>\n",
       "      <th>30</th>\n",
       "      <td>HC&amp;HF</td>\n",
       "      <td>NOV</td>\n",
       "      <td>11.35</td>\n",
       "    </tr>\n",
       "    <tr>\n",
       "      <th>31</th>\n",
       "      <td>ROX</td>\n",
       "      <td>NOV</td>\n",
       "      <td>12.37</td>\n",
       "    </tr>\n",
       "    <tr>\n",
       "      <th>32</th>\n",
       "      <td>TM&amp;NT</td>\n",
       "      <td>NOV</td>\n",
       "      <td>10.13</td>\n",
       "    </tr>\n",
       "    <tr>\n",
       "      <th>33</th>\n",
       "      <td>HC&amp;HF</td>\n",
       "      <td>DEC</td>\n",
       "      <td>11.84</td>\n",
       "    </tr>\n",
       "    <tr>\n",
       "      <th>34</th>\n",
       "      <td>ROX</td>\n",
       "      <td>DEC</td>\n",
       "      <td>12.40</td>\n",
       "    </tr>\n",
       "    <tr>\n",
       "      <th>35</th>\n",
       "      <td>TM&amp;NT</td>\n",
       "      <td>DEC</td>\n",
       "      <td>10.16</td>\n",
       "    </tr>\n",
       "  </tbody>\n",
       "</table>\n",
       "</div>"
      ],
      "text/plain": [
       "   Group_brand Month  Net Sale\n",
       "0        HC&HF   JAN      9.00\n",
       "1          ROX   JAN     18.83\n",
       "2        TM&NT   JAN      8.23\n",
       "3        HC&HF   FEB      6.72\n",
       "4          ROX   FEB     10.15\n",
       "5        TM&NT   FEB      6.15\n",
       "6        HC&HF   MAR      9.33\n",
       "7          ROX   MAR     14.48\n",
       "8        TM&NT   MAR     10.21\n",
       "9        HC&HF   APR      8.51\n",
       "10         ROX   APR     13.73\n",
       "11       TM&NT   APR      9.55\n",
       "12       HC&HF   MAY      9.31\n",
       "13         ROX   MAY     12.65\n",
       "14       TM&NT   MAY     10.16\n",
       "15       HC&HF   JUN      9.42\n",
       "16         ROX   JUN     11.41\n",
       "17       TM&NT   JUN      8.91\n",
       "18       HC&HF   JUL      9.28\n",
       "19         ROX   JUL     11.84\n",
       "20       TM&NT   JUL     10.03\n",
       "21       HC&HF   AUG     10.07\n",
       "22         ROX   AUG     11.42\n",
       "23       TM&NT   AUG      9.60\n",
       "24       HC&HF   SEP     11.24\n",
       "25         ROX   SEP      9.43\n",
       "26       TM&NT   SEP     11.00\n",
       "27       HC&HF   OCT     11.53\n",
       "28         ROX   OCT     12.08\n",
       "29       TM&NT   OCT      9.89\n",
       "30       HC&HF   NOV     11.35\n",
       "31         ROX   NOV     12.37\n",
       "32       TM&NT   NOV     10.13\n",
       "33       HC&HF   DEC     11.84\n",
       "34         ROX   DEC     12.40\n",
       "35       TM&NT   DEC     10.16"
      ]
     },
     "execution_count": 167,
     "metadata": {},
     "output_type": "execute_result"
    }
   ],
   "source": [
    "df1_3 = df1[(df1['Year'] == '2023') & (df1['Acc_Name'].isin(['Net Sale']))].drop(columns=['Year', 'Brand', 'Acc_Name', 'Channel']).loc[:, 'Group_brand': 'DEC'].groupby(['Group_brand']).sum().reset_index().melt(id_vars=['Group_brand'], var_name='Month', value_name='Net Sale')\n",
    "df1_3['Net Sale'] = df1_3['Net Sale'].div(1000).round(2)\n",
    "df1_3"
   ]
  },
  {
   "cell_type": "code",
   "execution_count": 168,
   "metadata": {},
   "outputs": [
    {
     "data": {
      "application/vnd.plotly.v1+json": {
       "config": {
        "plotlyServerURL": "https://plot.ly"
       },
       "data": [
        {
         "alignmentgroup": "True",
         "hovertemplate": "Group_brand=HC&HF<br>Month=%{x}<br>Net Sale=%{text}<extra></extra>",
         "legendgroup": "HC&HF",
         "marker": {
          "color": "#636efa",
          "pattern": {
           "shape": ""
          }
         },
         "name": "HC&HF",
         "offsetgroup": "HC&HF",
         "orientation": "v",
         "showlegend": true,
         "text": [
          9,
          6.72,
          9.33,
          8.51,
          9.31,
          9.42,
          9.28,
          10.07,
          11.24,
          11.53,
          11.35,
          11.84
         ],
         "textposition": "auto",
         "type": "bar",
         "x": [
          "JAN",
          "FEB",
          "MAR",
          "APR",
          "MAY",
          "JUN",
          "JUL",
          "AUG",
          "SEP",
          "OCT",
          "NOV",
          "DEC"
         ],
         "xaxis": "x",
         "y": [
          9,
          6.72,
          9.33,
          8.51,
          9.31,
          9.42,
          9.28,
          10.07,
          11.24,
          11.53,
          11.35,
          11.84
         ],
         "yaxis": "y"
        },
        {
         "alignmentgroup": "True",
         "hovertemplate": "Group_brand=ROX<br>Month=%{x}<br>Net Sale=%{text}<extra></extra>",
         "legendgroup": "ROX",
         "marker": {
          "color": "#EF553B",
          "pattern": {
           "shape": ""
          }
         },
         "name": "ROX",
         "offsetgroup": "ROX",
         "orientation": "v",
         "showlegend": true,
         "text": [
          18.83,
          10.15,
          14.48,
          13.73,
          12.65,
          11.41,
          11.84,
          11.42,
          9.43,
          12.08,
          12.37,
          12.4
         ],
         "textposition": "auto",
         "type": "bar",
         "x": [
          "JAN",
          "FEB",
          "MAR",
          "APR",
          "MAY",
          "JUN",
          "JUL",
          "AUG",
          "SEP",
          "OCT",
          "NOV",
          "DEC"
         ],
         "xaxis": "x",
         "y": [
          18.83,
          10.15,
          14.48,
          13.73,
          12.65,
          11.41,
          11.84,
          11.42,
          9.43,
          12.08,
          12.37,
          12.4
         ],
         "yaxis": "y"
        },
        {
         "alignmentgroup": "True",
         "hovertemplate": "Group_brand=TM&NT<br>Month=%{x}<br>Net Sale=%{text}<extra></extra>",
         "legendgroup": "TM&NT",
         "marker": {
          "color": "#00cc96",
          "pattern": {
           "shape": ""
          }
         },
         "name": "TM&NT",
         "offsetgroup": "TM&NT",
         "orientation": "v",
         "showlegend": true,
         "text": [
          8.23,
          6.15,
          10.21,
          9.55,
          10.16,
          8.91,
          10.03,
          9.6,
          11,
          9.89,
          10.13,
          10.16
         ],
         "textposition": "auto",
         "type": "bar",
         "x": [
          "JAN",
          "FEB",
          "MAR",
          "APR",
          "MAY",
          "JUN",
          "JUL",
          "AUG",
          "SEP",
          "OCT",
          "NOV",
          "DEC"
         ],
         "xaxis": "x",
         "y": [
          8.23,
          6.15,
          10.21,
          9.55,
          10.16,
          8.91,
          10.03,
          9.6,
          11,
          9.89,
          10.13,
          10.16
         ],
         "yaxis": "y"
        }
       ],
       "layout": {
        "barmode": "relative",
        "legend": {
         "title": {
          "text": "Group_brand"
         },
         "tracegroupgap": 0
        },
        "margin": {
         "t": 60
        },
        "template": {
         "data": {
          "bar": [
           {
            "error_x": {
             "color": "#2a3f5f"
            },
            "error_y": {
             "color": "#2a3f5f"
            },
            "marker": {
             "line": {
              "color": "#E5ECF6",
              "width": 0.5
             },
             "pattern": {
              "fillmode": "overlay",
              "size": 10,
              "solidity": 0.2
             }
            },
            "type": "bar"
           }
          ],
          "barpolar": [
           {
            "marker": {
             "line": {
              "color": "#E5ECF6",
              "width": 0.5
             },
             "pattern": {
              "fillmode": "overlay",
              "size": 10,
              "solidity": 0.2
             }
            },
            "type": "barpolar"
           }
          ],
          "carpet": [
           {
            "aaxis": {
             "endlinecolor": "#2a3f5f",
             "gridcolor": "white",
             "linecolor": "white",
             "minorgridcolor": "white",
             "startlinecolor": "#2a3f5f"
            },
            "baxis": {
             "endlinecolor": "#2a3f5f",
             "gridcolor": "white",
             "linecolor": "white",
             "minorgridcolor": "white",
             "startlinecolor": "#2a3f5f"
            },
            "type": "carpet"
           }
          ],
          "choropleth": [
           {
            "colorbar": {
             "outlinewidth": 0,
             "ticks": ""
            },
            "type": "choropleth"
           }
          ],
          "contour": [
           {
            "colorbar": {
             "outlinewidth": 0,
             "ticks": ""
            },
            "colorscale": [
             [
              0,
              "#0d0887"
             ],
             [
              0.1111111111111111,
              "#46039f"
             ],
             [
              0.2222222222222222,
              "#7201a8"
             ],
             [
              0.3333333333333333,
              "#9c179e"
             ],
             [
              0.4444444444444444,
              "#bd3786"
             ],
             [
              0.5555555555555556,
              "#d8576b"
             ],
             [
              0.6666666666666666,
              "#ed7953"
             ],
             [
              0.7777777777777778,
              "#fb9f3a"
             ],
             [
              0.8888888888888888,
              "#fdca26"
             ],
             [
              1,
              "#f0f921"
             ]
            ],
            "type": "contour"
           }
          ],
          "contourcarpet": [
           {
            "colorbar": {
             "outlinewidth": 0,
             "ticks": ""
            },
            "type": "contourcarpet"
           }
          ],
          "heatmap": [
           {
            "colorbar": {
             "outlinewidth": 0,
             "ticks": ""
            },
            "colorscale": [
             [
              0,
              "#0d0887"
             ],
             [
              0.1111111111111111,
              "#46039f"
             ],
             [
              0.2222222222222222,
              "#7201a8"
             ],
             [
              0.3333333333333333,
              "#9c179e"
             ],
             [
              0.4444444444444444,
              "#bd3786"
             ],
             [
              0.5555555555555556,
              "#d8576b"
             ],
             [
              0.6666666666666666,
              "#ed7953"
             ],
             [
              0.7777777777777778,
              "#fb9f3a"
             ],
             [
              0.8888888888888888,
              "#fdca26"
             ],
             [
              1,
              "#f0f921"
             ]
            ],
            "type": "heatmap"
           }
          ],
          "heatmapgl": [
           {
            "colorbar": {
             "outlinewidth": 0,
             "ticks": ""
            },
            "colorscale": [
             [
              0,
              "#0d0887"
             ],
             [
              0.1111111111111111,
              "#46039f"
             ],
             [
              0.2222222222222222,
              "#7201a8"
             ],
             [
              0.3333333333333333,
              "#9c179e"
             ],
             [
              0.4444444444444444,
              "#bd3786"
             ],
             [
              0.5555555555555556,
              "#d8576b"
             ],
             [
              0.6666666666666666,
              "#ed7953"
             ],
             [
              0.7777777777777778,
              "#fb9f3a"
             ],
             [
              0.8888888888888888,
              "#fdca26"
             ],
             [
              1,
              "#f0f921"
             ]
            ],
            "type": "heatmapgl"
           }
          ],
          "histogram": [
           {
            "marker": {
             "pattern": {
              "fillmode": "overlay",
              "size": 10,
              "solidity": 0.2
             }
            },
            "type": "histogram"
           }
          ],
          "histogram2d": [
           {
            "colorbar": {
             "outlinewidth": 0,
             "ticks": ""
            },
            "colorscale": [
             [
              0,
              "#0d0887"
             ],
             [
              0.1111111111111111,
              "#46039f"
             ],
             [
              0.2222222222222222,
              "#7201a8"
             ],
             [
              0.3333333333333333,
              "#9c179e"
             ],
             [
              0.4444444444444444,
              "#bd3786"
             ],
             [
              0.5555555555555556,
              "#d8576b"
             ],
             [
              0.6666666666666666,
              "#ed7953"
             ],
             [
              0.7777777777777778,
              "#fb9f3a"
             ],
             [
              0.8888888888888888,
              "#fdca26"
             ],
             [
              1,
              "#f0f921"
             ]
            ],
            "type": "histogram2d"
           }
          ],
          "histogram2dcontour": [
           {
            "colorbar": {
             "outlinewidth": 0,
             "ticks": ""
            },
            "colorscale": [
             [
              0,
              "#0d0887"
             ],
             [
              0.1111111111111111,
              "#46039f"
             ],
             [
              0.2222222222222222,
              "#7201a8"
             ],
             [
              0.3333333333333333,
              "#9c179e"
             ],
             [
              0.4444444444444444,
              "#bd3786"
             ],
             [
              0.5555555555555556,
              "#d8576b"
             ],
             [
              0.6666666666666666,
              "#ed7953"
             ],
             [
              0.7777777777777778,
              "#fb9f3a"
             ],
             [
              0.8888888888888888,
              "#fdca26"
             ],
             [
              1,
              "#f0f921"
             ]
            ],
            "type": "histogram2dcontour"
           }
          ],
          "mesh3d": [
           {
            "colorbar": {
             "outlinewidth": 0,
             "ticks": ""
            },
            "type": "mesh3d"
           }
          ],
          "parcoords": [
           {
            "line": {
             "colorbar": {
              "outlinewidth": 0,
              "ticks": ""
             }
            },
            "type": "parcoords"
           }
          ],
          "pie": [
           {
            "automargin": true,
            "type": "pie"
           }
          ],
          "scatter": [
           {
            "fillpattern": {
             "fillmode": "overlay",
             "size": 10,
             "solidity": 0.2
            },
            "type": "scatter"
           }
          ],
          "scatter3d": [
           {
            "line": {
             "colorbar": {
              "outlinewidth": 0,
              "ticks": ""
             }
            },
            "marker": {
             "colorbar": {
              "outlinewidth": 0,
              "ticks": ""
             }
            },
            "type": "scatter3d"
           }
          ],
          "scattercarpet": [
           {
            "marker": {
             "colorbar": {
              "outlinewidth": 0,
              "ticks": ""
             }
            },
            "type": "scattercarpet"
           }
          ],
          "scattergeo": [
           {
            "marker": {
             "colorbar": {
              "outlinewidth": 0,
              "ticks": ""
             }
            },
            "type": "scattergeo"
           }
          ],
          "scattergl": [
           {
            "marker": {
             "colorbar": {
              "outlinewidth": 0,
              "ticks": ""
             }
            },
            "type": "scattergl"
           }
          ],
          "scattermapbox": [
           {
            "marker": {
             "colorbar": {
              "outlinewidth": 0,
              "ticks": ""
             }
            },
            "type": "scattermapbox"
           }
          ],
          "scatterpolar": [
           {
            "marker": {
             "colorbar": {
              "outlinewidth": 0,
              "ticks": ""
             }
            },
            "type": "scatterpolar"
           }
          ],
          "scatterpolargl": [
           {
            "marker": {
             "colorbar": {
              "outlinewidth": 0,
              "ticks": ""
             }
            },
            "type": "scatterpolargl"
           }
          ],
          "scatterternary": [
           {
            "marker": {
             "colorbar": {
              "outlinewidth": 0,
              "ticks": ""
             }
            },
            "type": "scatterternary"
           }
          ],
          "surface": [
           {
            "colorbar": {
             "outlinewidth": 0,
             "ticks": ""
            },
            "colorscale": [
             [
              0,
              "#0d0887"
             ],
             [
              0.1111111111111111,
              "#46039f"
             ],
             [
              0.2222222222222222,
              "#7201a8"
             ],
             [
              0.3333333333333333,
              "#9c179e"
             ],
             [
              0.4444444444444444,
              "#bd3786"
             ],
             [
              0.5555555555555556,
              "#d8576b"
             ],
             [
              0.6666666666666666,
              "#ed7953"
             ],
             [
              0.7777777777777778,
              "#fb9f3a"
             ],
             [
              0.8888888888888888,
              "#fdca26"
             ],
             [
              1,
              "#f0f921"
             ]
            ],
            "type": "surface"
           }
          ],
          "table": [
           {
            "cells": {
             "fill": {
              "color": "#EBF0F8"
             },
             "line": {
              "color": "white"
             }
            },
            "header": {
             "fill": {
              "color": "#C8D4E3"
             },
             "line": {
              "color": "white"
             }
            },
            "type": "table"
           }
          ]
         },
         "layout": {
          "annotationdefaults": {
           "arrowcolor": "#2a3f5f",
           "arrowhead": 0,
           "arrowwidth": 1
          },
          "autotypenumbers": "strict",
          "coloraxis": {
           "colorbar": {
            "outlinewidth": 0,
            "ticks": ""
           }
          },
          "colorscale": {
           "diverging": [
            [
             0,
             "#8e0152"
            ],
            [
             0.1,
             "#c51b7d"
            ],
            [
             0.2,
             "#de77ae"
            ],
            [
             0.3,
             "#f1b6da"
            ],
            [
             0.4,
             "#fde0ef"
            ],
            [
             0.5,
             "#f7f7f7"
            ],
            [
             0.6,
             "#e6f5d0"
            ],
            [
             0.7,
             "#b8e186"
            ],
            [
             0.8,
             "#7fbc41"
            ],
            [
             0.9,
             "#4d9221"
            ],
            [
             1,
             "#276419"
            ]
           ],
           "sequential": [
            [
             0,
             "#0d0887"
            ],
            [
             0.1111111111111111,
             "#46039f"
            ],
            [
             0.2222222222222222,
             "#7201a8"
            ],
            [
             0.3333333333333333,
             "#9c179e"
            ],
            [
             0.4444444444444444,
             "#bd3786"
            ],
            [
             0.5555555555555556,
             "#d8576b"
            ],
            [
             0.6666666666666666,
             "#ed7953"
            ],
            [
             0.7777777777777778,
             "#fb9f3a"
            ],
            [
             0.8888888888888888,
             "#fdca26"
            ],
            [
             1,
             "#f0f921"
            ]
           ],
           "sequentialminus": [
            [
             0,
             "#0d0887"
            ],
            [
             0.1111111111111111,
             "#46039f"
            ],
            [
             0.2222222222222222,
             "#7201a8"
            ],
            [
             0.3333333333333333,
             "#9c179e"
            ],
            [
             0.4444444444444444,
             "#bd3786"
            ],
            [
             0.5555555555555556,
             "#d8576b"
            ],
            [
             0.6666666666666666,
             "#ed7953"
            ],
            [
             0.7777777777777778,
             "#fb9f3a"
            ],
            [
             0.8888888888888888,
             "#fdca26"
            ],
            [
             1,
             "#f0f921"
            ]
           ]
          },
          "colorway": [
           "#636efa",
           "#EF553B",
           "#00cc96",
           "#ab63fa",
           "#FFA15A",
           "#19d3f3",
           "#FF6692",
           "#B6E880",
           "#FF97FF",
           "#FECB52"
          ],
          "font": {
           "color": "#2a3f5f"
          },
          "geo": {
           "bgcolor": "white",
           "lakecolor": "white",
           "landcolor": "#E5ECF6",
           "showlakes": true,
           "showland": true,
           "subunitcolor": "white"
          },
          "hoverlabel": {
           "align": "left"
          },
          "hovermode": "closest",
          "mapbox": {
           "style": "light"
          },
          "paper_bgcolor": "white",
          "plot_bgcolor": "#E5ECF6",
          "polar": {
           "angularaxis": {
            "gridcolor": "white",
            "linecolor": "white",
            "ticks": ""
           },
           "bgcolor": "#E5ECF6",
           "radialaxis": {
            "gridcolor": "white",
            "linecolor": "white",
            "ticks": ""
           }
          },
          "scene": {
           "xaxis": {
            "backgroundcolor": "#E5ECF6",
            "gridcolor": "white",
            "gridwidth": 2,
            "linecolor": "white",
            "showbackground": true,
            "ticks": "",
            "zerolinecolor": "white"
           },
           "yaxis": {
            "backgroundcolor": "#E5ECF6",
            "gridcolor": "white",
            "gridwidth": 2,
            "linecolor": "white",
            "showbackground": true,
            "ticks": "",
            "zerolinecolor": "white"
           },
           "zaxis": {
            "backgroundcolor": "#E5ECF6",
            "gridcolor": "white",
            "gridwidth": 2,
            "linecolor": "white",
            "showbackground": true,
            "ticks": "",
            "zerolinecolor": "white"
           }
          },
          "shapedefaults": {
           "line": {
            "color": "#2a3f5f"
           }
          },
          "ternary": {
           "aaxis": {
            "gridcolor": "white",
            "linecolor": "white",
            "ticks": ""
           },
           "baxis": {
            "gridcolor": "white",
            "linecolor": "white",
            "ticks": ""
           },
           "bgcolor": "#E5ECF6",
           "caxis": {
            "gridcolor": "white",
            "linecolor": "white",
            "ticks": ""
           }
          },
          "title": {
           "x": 0.05
          },
          "xaxis": {
           "automargin": true,
           "gridcolor": "white",
           "linecolor": "white",
           "ticks": "",
           "title": {
            "standoff": 15
           },
           "zerolinecolor": "white",
           "zerolinewidth": 2
          },
          "yaxis": {
           "automargin": true,
           "gridcolor": "white",
           "linecolor": "white",
           "ticks": "",
           "title": {
            "standoff": 15
           },
           "zerolinecolor": "white",
           "zerolinewidth": 2
          }
         }
        },
        "xaxis": {
         "anchor": "y",
         "domain": [
          0,
          1
         ],
         "title": {
          "text": "Month"
         }
        },
        "yaxis": {
         "anchor": "x",
         "domain": [
          0,
          1
         ],
         "title": {
          "text": "Net Sale"
         }
        }
       }
      }
     },
     "metadata": {},
     "output_type": "display_data"
    }
   ],
   "source": [
    "fig = px.bar(df1_3, x='Month', y='Net Sale', color='Group_brand', text='Net Sale')\n",
    "fig.show()"
   ]
  },
  {
   "cell_type": "code",
   "execution_count": 169,
   "metadata": {},
   "outputs": [
    {
     "name": "stdout",
     "output_type": "stream",
     "text": [
      "[36050.45205    23018.14883    34011.53124    31788.44425\n",
      " 32119.68935    29741.44459    31155.55083    31095.89467\n",
      " 31671.30980327 33496.2046415  33855.91279951 34400.92138233]\n"
     ]
    },
    {
     "name": "stderr",
     "output_type": "stream",
     "text": [
      "C:\\Users\\aussa\\AppData\\Local\\Temp\\ipykernel_39040\\1504327898.py:1: FutureWarning:\n",
      "\n",
      "The default value of numeric_only in DataFrameGroupBy.sum is deprecated. In a future version, numeric_only will default to False. Either specify numeric_only or select only columns which should be valid for the function.\n",
      "\n"
     ]
    },
    {
     "data": {
      "text/html": [
       "<div>\n",
       "<style scoped>\n",
       "    .dataframe tbody tr th:only-of-type {\n",
       "        vertical-align: middle;\n",
       "    }\n",
       "\n",
       "    .dataframe tbody tr th {\n",
       "        vertical-align: top;\n",
       "    }\n",
       "\n",
       "    .dataframe thead th {\n",
       "        text-align: right;\n",
       "    }\n",
       "</style>\n",
       "<table border=\"1\" class=\"dataframe\">\n",
       "  <thead>\n",
       "    <tr style=\"text-align: right;\">\n",
       "      <th>Group_brand</th>\n",
       "      <th>ROX</th>\n",
       "      <th>HC&amp;HF</th>\n",
       "      <th>TM&amp;NT</th>\n",
       "    </tr>\n",
       "  </thead>\n",
       "  <tbody>\n",
       "    <tr>\n",
       "      <th>JAN</th>\n",
       "      <td>18827.195820</td>\n",
       "      <td>8997.290000</td>\n",
       "      <td>8225.966230</td>\n",
       "    </tr>\n",
       "    <tr>\n",
       "      <th>FEB</th>\n",
       "      <td>10146.418050</td>\n",
       "      <td>6724.617340</td>\n",
       "      <td>6147.113440</td>\n",
       "    </tr>\n",
       "    <tr>\n",
       "      <th>MAR</th>\n",
       "      <td>14478.531440</td>\n",
       "      <td>9326.262830</td>\n",
       "      <td>10206.736970</td>\n",
       "    </tr>\n",
       "    <tr>\n",
       "      <th>APR</th>\n",
       "      <td>13730.810730</td>\n",
       "      <td>8506.336160</td>\n",
       "      <td>9551.297360</td>\n",
       "    </tr>\n",
       "    <tr>\n",
       "      <th>MAY</th>\n",
       "      <td>12646.805930</td>\n",
       "      <td>9312.724740</td>\n",
       "      <td>10160.158680</td>\n",
       "    </tr>\n",
       "    <tr>\n",
       "      <th>JUN</th>\n",
       "      <td>11411.832030</td>\n",
       "      <td>9417.486880</td>\n",
       "      <td>8912.125680</td>\n",
       "    </tr>\n",
       "    <tr>\n",
       "      <th>JUL</th>\n",
       "      <td>11839.869090</td>\n",
       "      <td>9283.721170</td>\n",
       "      <td>10031.960570</td>\n",
       "    </tr>\n",
       "    <tr>\n",
       "      <th>AUG</th>\n",
       "      <td>11422.917120</td>\n",
       "      <td>10070.393980</td>\n",
       "      <td>9602.583570</td>\n",
       "    </tr>\n",
       "    <tr>\n",
       "      <th>SEP</th>\n",
       "      <td>9428.784228</td>\n",
       "      <td>11239.804289</td>\n",
       "      <td>11002.721286</td>\n",
       "    </tr>\n",
       "    <tr>\n",
       "      <th>OCT</th>\n",
       "      <td>12082.049373</td>\n",
       "      <td>11526.807492</td>\n",
       "      <td>9887.347776</td>\n",
       "    </tr>\n",
       "    <tr>\n",
       "      <th>NOV</th>\n",
       "      <td>12371.175636</td>\n",
       "      <td>11353.583863</td>\n",
       "      <td>10131.153301</td>\n",
       "    </tr>\n",
       "    <tr>\n",
       "      <th>DEC</th>\n",
       "      <td>12402.115177</td>\n",
       "      <td>11842.854722</td>\n",
       "      <td>10155.951483</td>\n",
       "    </tr>\n",
       "  </tbody>\n",
       "</table>\n",
       "</div>"
      ],
      "text/plain": [
       "Group_brand           ROX         HC&HF         TM&NT\n",
       "JAN          18827.195820   8997.290000   8225.966230\n",
       "FEB          10146.418050   6724.617340   6147.113440\n",
       "MAR          14478.531440   9326.262830  10206.736970\n",
       "APR          13730.810730   8506.336160   9551.297360\n",
       "MAY          12646.805930   9312.724740  10160.158680\n",
       "JUN          11411.832030   9417.486880   8912.125680\n",
       "JUL          11839.869090   9283.721170  10031.960570\n",
       "AUG          11422.917120  10070.393980   9602.583570\n",
       "SEP           9428.784228  11239.804289  11002.721286\n",
       "OCT          12082.049373  11526.807492   9887.347776\n",
       "NOV          12371.175636  11353.583863  10131.153301\n",
       "DEC          12402.115177  11842.854722  10155.951483"
      ]
     },
     "metadata": {},
     "output_type": "display_data"
    }
   ],
   "source": [
    "df1_4 = df1[(df1['Year'] == '2023') & (df1['Acc_Name'].isin(['Net Sale']))].drop(columns=['Year', 'Brand', 'Acc_Name']).loc[:, 'Group_brand': 'DEC'].groupby(['Group_brand']).sum().T\n",
    "\n",
    "# Calculate total values and sort the DataFrame\n",
    "new_col = df1_4.sum().sort_values(ascending=False).index\n",
    "df1_4 = df1_4[new_col]\n",
    "#df1_4 = df1_4.div(1000).round(1)\n",
    "print(df1_4.sum(axis=1).values)\n",
    "display(df1_4)"
   ]
  },
  {
   "cell_type": "code",
   "execution_count": 170,
   "metadata": {},
   "outputs": [
    {
     "data": {
      "application/vnd.plotly.v1+json": {
       "config": {
        "plotlyServerURL": "https://plot.ly"
       },
       "data": [
        {
         "hoverinfo": "x+y",
         "insidetextanchor": "middle",
         "marker": {
          "color": "#F8C471"
         },
         "name": "ROX",
         "text": [
          "<b>18.8M<br>52.2%</b>",
          "<b>10.1M<br>44.1%</b>",
          "<b>14.5M<br>42.6%</b>",
          "<b>13.7M<br>43.2%</b>",
          "<b>12.6M<br>39.4%</b>",
          "<b>11.4M<br>38.4%</b>",
          "<b>11.8M<br>38.0%</b>",
          "<b>11.4M<br>36.7%</b>",
          "<b>9.4M<br>29.8%</b>",
          "<b>12.1M<br>36.1%</b>",
          "<b>12.4M<br>36.5%</b>",
          "<b>12.4M<br>36.1%</b>"
         ],
         "textangle": 0,
         "textposition": "inside",
         "type": "bar",
         "x": [
          "JAN",
          "FEB",
          "MAR",
          "APR",
          "MAY",
          "JUN",
          "JUL",
          "AUG",
          "SEP",
          "OCT",
          "NOV",
          "DEC"
         ],
         "y": [
          18827.19582,
          10146.418050000015,
          14478.531440000024,
          13730.810730000017,
          12646.805930000046,
          11411.832030000005,
          11839.86909,
          11422.917119999995,
          9428.784228158731,
          12082.049373117787,
          12371.175635665146,
          12402.115177148928
         ]
        },
        {
         "hoverinfo": "x+y",
         "insidetextanchor": "middle",
         "marker": {
          "color": "#A9DFBF"
         },
         "name": "HC&HF",
         "text": [
          "<b>9.0M<br>25.0%</b>",
          "<b>6.7M<br>29.2%</b>",
          "<b>9.3M<br>27.4%</b>",
          "<b>8.5M<br>26.8%</b>",
          "<b>9.3M<br>29.0%</b>",
          "<b>9.4M<br>31.7%</b>",
          "<b>9.3M<br>29.8%</b>",
          "<b>10.1M<br>32.4%</b>",
          "<b>11.2M<br>35.5%</b>",
          "<b>11.5M<br>34.4%</b>",
          "<b>11.4M<br>33.5%</b>",
          "<b>11.8M<br>34.4%</b>"
         ],
         "textangle": 0,
         "textposition": "inside",
         "type": "bar",
         "x": [
          "JAN",
          "FEB",
          "MAR",
          "APR",
          "MAY",
          "JUN",
          "JUL",
          "AUG",
          "SEP",
          "OCT",
          "NOV",
          "DEC"
         ],
         "y": [
          8997.28999999999,
          6724.617340000001,
          9326.262830000132,
          8506.336159999988,
          9312.724739999992,
          9417.486880000253,
          9283.72117,
          10070.393979999988,
          11239.804289111113,
          11526.807491882655,
          11353.583863223383,
          11842.854721894997
         ]
        },
        {
         "hoverinfo": "x+y",
         "insidetextanchor": "middle",
         "marker": {
          "color": "#85C1E9"
         },
         "name": "TM&NT",
         "text": [
          "<b>8.2M<br>22.8%</b>",
          "<b>6.1M<br>26.7%</b>",
          "<b>10.2M<br>30.0%</b>",
          "<b>9.6M<br>30.0%</b>",
          "<b>10.2M<br>31.6%</b>",
          "<b>8.9M<br>30.0%</b>",
          "<b>10.0M<br>32.2%</b>",
          "<b>9.6M<br>30.9%</b>",
          "<b>11.0M<br>34.7%</b>",
          "<b>9.9M<br>29.5%</b>",
          "<b>10.1M<br>29.9%</b>",
          "<b>10.2M<br>29.5%</b>"
         ],
         "textangle": 0,
         "textposition": "inside",
         "type": "bar",
         "x": [
          "JAN",
          "FEB",
          "MAR",
          "APR",
          "MAY",
          "JUN",
          "JUL",
          "AUG",
          "SEP",
          "OCT",
          "NOV",
          "DEC"
         ],
         "y": [
          8225.966229999987,
          6147.113439999994,
          10206.73697000002,
          9551.29735999999,
          10160.158679999988,
          8912.12567999999,
          10031.96057,
          9602.583569999983,
          11002.721286,
          9887.347776499993,
          10131.153300624994,
          10155.951483281242
         ]
        },
        {
         "hoverinfo": "x+y",
         "line": {
          "color": "#9B59B6",
          "dash": "dash",
          "width": 3
         },
         "marker": {
          "color": "#9B59B6",
          "line": {
           "color": "#9B59B6",
           "width": 1
          },
          "size": 10,
          "symbol": "square"
         },
         "mode": "lines+markers+text",
         "name": "Total",
         "text": [
          "<b style=\"color:#884EA0;\">36.1M</b>",
          "<b style=\"color:#884EA0;\">23.0M</b>",
          "<b style=\"color:#884EA0;\">34.0M</b>",
          "<b style=\"color:#884EA0;\">31.8M</b>",
          "<b style=\"color:#884EA0;\">32.1M</b>",
          "<b style=\"color:#884EA0;\">29.7M</b>",
          "<b style=\"color:#884EA0;\">31.2M</b>",
          "<b style=\"color:#884EA0;\">31.1M</b>",
          "<b style=\"color:#884EA0;\">31.7M</b>",
          "<b style=\"color:#884EA0;\">33.5M</b>",
          "<b style=\"color:#884EA0;\">33.9M</b>",
          "<b style=\"color:#884EA0;\">34.4M</b>"
         ],
         "textfont": {
          "size": 14
         },
         "textposition": "top center",
         "type": "scatter",
         "x": [
          "JAN",
          "FEB",
          "MAR",
          "APR",
          "MAY",
          "JUN",
          "JUL",
          "AUG",
          "SEP",
          "OCT",
          "NOV",
          "DEC"
         ],
         "y": [
          36050.45204999998,
          23018.14883000001,
          34011.53124000018,
          31788.444249999993,
          32119.689350000022,
          29741.444590000247,
          31155.55083,
          31095.894669999965,
          31671.309803269844,
          33496.20464150044,
          33855.91279951352,
          34400.92138232516
         ]
        }
       ],
       "layout": {
        "barmode": "stack",
        "margin": {
         "b": 50,
         "l": 0,
         "r": 0,
         "t": 50
        },
        "template": {
         "data": {
          "bar": [
           {
            "error_x": {
             "color": "#2a3f5f"
            },
            "error_y": {
             "color": "#2a3f5f"
            },
            "marker": {
             "line": {
              "color": "#E5ECF6",
              "width": 0.5
             },
             "pattern": {
              "fillmode": "overlay",
              "size": 10,
              "solidity": 0.2
             }
            },
            "type": "bar"
           }
          ],
          "barpolar": [
           {
            "marker": {
             "line": {
              "color": "#E5ECF6",
              "width": 0.5
             },
             "pattern": {
              "fillmode": "overlay",
              "size": 10,
              "solidity": 0.2
             }
            },
            "type": "barpolar"
           }
          ],
          "carpet": [
           {
            "aaxis": {
             "endlinecolor": "#2a3f5f",
             "gridcolor": "white",
             "linecolor": "white",
             "minorgridcolor": "white",
             "startlinecolor": "#2a3f5f"
            },
            "baxis": {
             "endlinecolor": "#2a3f5f",
             "gridcolor": "white",
             "linecolor": "white",
             "minorgridcolor": "white",
             "startlinecolor": "#2a3f5f"
            },
            "type": "carpet"
           }
          ],
          "choropleth": [
           {
            "colorbar": {
             "outlinewidth": 0,
             "ticks": ""
            },
            "type": "choropleth"
           }
          ],
          "contour": [
           {
            "colorbar": {
             "outlinewidth": 0,
             "ticks": ""
            },
            "colorscale": [
             [
              0,
              "#0d0887"
             ],
             [
              0.1111111111111111,
              "#46039f"
             ],
             [
              0.2222222222222222,
              "#7201a8"
             ],
             [
              0.3333333333333333,
              "#9c179e"
             ],
             [
              0.4444444444444444,
              "#bd3786"
             ],
             [
              0.5555555555555556,
              "#d8576b"
             ],
             [
              0.6666666666666666,
              "#ed7953"
             ],
             [
              0.7777777777777778,
              "#fb9f3a"
             ],
             [
              0.8888888888888888,
              "#fdca26"
             ],
             [
              1,
              "#f0f921"
             ]
            ],
            "type": "contour"
           }
          ],
          "contourcarpet": [
           {
            "colorbar": {
             "outlinewidth": 0,
             "ticks": ""
            },
            "type": "contourcarpet"
           }
          ],
          "heatmap": [
           {
            "colorbar": {
             "outlinewidth": 0,
             "ticks": ""
            },
            "colorscale": [
             [
              0,
              "#0d0887"
             ],
             [
              0.1111111111111111,
              "#46039f"
             ],
             [
              0.2222222222222222,
              "#7201a8"
             ],
             [
              0.3333333333333333,
              "#9c179e"
             ],
             [
              0.4444444444444444,
              "#bd3786"
             ],
             [
              0.5555555555555556,
              "#d8576b"
             ],
             [
              0.6666666666666666,
              "#ed7953"
             ],
             [
              0.7777777777777778,
              "#fb9f3a"
             ],
             [
              0.8888888888888888,
              "#fdca26"
             ],
             [
              1,
              "#f0f921"
             ]
            ],
            "type": "heatmap"
           }
          ],
          "heatmapgl": [
           {
            "colorbar": {
             "outlinewidth": 0,
             "ticks": ""
            },
            "colorscale": [
             [
              0,
              "#0d0887"
             ],
             [
              0.1111111111111111,
              "#46039f"
             ],
             [
              0.2222222222222222,
              "#7201a8"
             ],
             [
              0.3333333333333333,
              "#9c179e"
             ],
             [
              0.4444444444444444,
              "#bd3786"
             ],
             [
              0.5555555555555556,
              "#d8576b"
             ],
             [
              0.6666666666666666,
              "#ed7953"
             ],
             [
              0.7777777777777778,
              "#fb9f3a"
             ],
             [
              0.8888888888888888,
              "#fdca26"
             ],
             [
              1,
              "#f0f921"
             ]
            ],
            "type": "heatmapgl"
           }
          ],
          "histogram": [
           {
            "marker": {
             "pattern": {
              "fillmode": "overlay",
              "size": 10,
              "solidity": 0.2
             }
            },
            "type": "histogram"
           }
          ],
          "histogram2d": [
           {
            "colorbar": {
             "outlinewidth": 0,
             "ticks": ""
            },
            "colorscale": [
             [
              0,
              "#0d0887"
             ],
             [
              0.1111111111111111,
              "#46039f"
             ],
             [
              0.2222222222222222,
              "#7201a8"
             ],
             [
              0.3333333333333333,
              "#9c179e"
             ],
             [
              0.4444444444444444,
              "#bd3786"
             ],
             [
              0.5555555555555556,
              "#d8576b"
             ],
             [
              0.6666666666666666,
              "#ed7953"
             ],
             [
              0.7777777777777778,
              "#fb9f3a"
             ],
             [
              0.8888888888888888,
              "#fdca26"
             ],
             [
              1,
              "#f0f921"
             ]
            ],
            "type": "histogram2d"
           }
          ],
          "histogram2dcontour": [
           {
            "colorbar": {
             "outlinewidth": 0,
             "ticks": ""
            },
            "colorscale": [
             [
              0,
              "#0d0887"
             ],
             [
              0.1111111111111111,
              "#46039f"
             ],
             [
              0.2222222222222222,
              "#7201a8"
             ],
             [
              0.3333333333333333,
              "#9c179e"
             ],
             [
              0.4444444444444444,
              "#bd3786"
             ],
             [
              0.5555555555555556,
              "#d8576b"
             ],
             [
              0.6666666666666666,
              "#ed7953"
             ],
             [
              0.7777777777777778,
              "#fb9f3a"
             ],
             [
              0.8888888888888888,
              "#fdca26"
             ],
             [
              1,
              "#f0f921"
             ]
            ],
            "type": "histogram2dcontour"
           }
          ],
          "mesh3d": [
           {
            "colorbar": {
             "outlinewidth": 0,
             "ticks": ""
            },
            "type": "mesh3d"
           }
          ],
          "parcoords": [
           {
            "line": {
             "colorbar": {
              "outlinewidth": 0,
              "ticks": ""
             }
            },
            "type": "parcoords"
           }
          ],
          "pie": [
           {
            "automargin": true,
            "type": "pie"
           }
          ],
          "scatter": [
           {
            "fillpattern": {
             "fillmode": "overlay",
             "size": 10,
             "solidity": 0.2
            },
            "type": "scatter"
           }
          ],
          "scatter3d": [
           {
            "line": {
             "colorbar": {
              "outlinewidth": 0,
              "ticks": ""
             }
            },
            "marker": {
             "colorbar": {
              "outlinewidth": 0,
              "ticks": ""
             }
            },
            "type": "scatter3d"
           }
          ],
          "scattercarpet": [
           {
            "marker": {
             "colorbar": {
              "outlinewidth": 0,
              "ticks": ""
             }
            },
            "type": "scattercarpet"
           }
          ],
          "scattergeo": [
           {
            "marker": {
             "colorbar": {
              "outlinewidth": 0,
              "ticks": ""
             }
            },
            "type": "scattergeo"
           }
          ],
          "scattergl": [
           {
            "marker": {
             "colorbar": {
              "outlinewidth": 0,
              "ticks": ""
             }
            },
            "type": "scattergl"
           }
          ],
          "scattermapbox": [
           {
            "marker": {
             "colorbar": {
              "outlinewidth": 0,
              "ticks": ""
             }
            },
            "type": "scattermapbox"
           }
          ],
          "scatterpolar": [
           {
            "marker": {
             "colorbar": {
              "outlinewidth": 0,
              "ticks": ""
             }
            },
            "type": "scatterpolar"
           }
          ],
          "scatterpolargl": [
           {
            "marker": {
             "colorbar": {
              "outlinewidth": 0,
              "ticks": ""
             }
            },
            "type": "scatterpolargl"
           }
          ],
          "scatterternary": [
           {
            "marker": {
             "colorbar": {
              "outlinewidth": 0,
              "ticks": ""
             }
            },
            "type": "scatterternary"
           }
          ],
          "surface": [
           {
            "colorbar": {
             "outlinewidth": 0,
             "ticks": ""
            },
            "colorscale": [
             [
              0,
              "#0d0887"
             ],
             [
              0.1111111111111111,
              "#46039f"
             ],
             [
              0.2222222222222222,
              "#7201a8"
             ],
             [
              0.3333333333333333,
              "#9c179e"
             ],
             [
              0.4444444444444444,
              "#bd3786"
             ],
             [
              0.5555555555555556,
              "#d8576b"
             ],
             [
              0.6666666666666666,
              "#ed7953"
             ],
             [
              0.7777777777777778,
              "#fb9f3a"
             ],
             [
              0.8888888888888888,
              "#fdca26"
             ],
             [
              1,
              "#f0f921"
             ]
            ],
            "type": "surface"
           }
          ],
          "table": [
           {
            "cells": {
             "fill": {
              "color": "#EBF0F8"
             },
             "line": {
              "color": "white"
             }
            },
            "header": {
             "fill": {
              "color": "#C8D4E3"
             },
             "line": {
              "color": "white"
             }
            },
            "type": "table"
           }
          ]
         },
         "layout": {
          "annotationdefaults": {
           "arrowcolor": "#2a3f5f",
           "arrowhead": 0,
           "arrowwidth": 1
          },
          "autotypenumbers": "strict",
          "coloraxis": {
           "colorbar": {
            "outlinewidth": 0,
            "ticks": ""
           }
          },
          "colorscale": {
           "diverging": [
            [
             0,
             "#8e0152"
            ],
            [
             0.1,
             "#c51b7d"
            ],
            [
             0.2,
             "#de77ae"
            ],
            [
             0.3,
             "#f1b6da"
            ],
            [
             0.4,
             "#fde0ef"
            ],
            [
             0.5,
             "#f7f7f7"
            ],
            [
             0.6,
             "#e6f5d0"
            ],
            [
             0.7,
             "#b8e186"
            ],
            [
             0.8,
             "#7fbc41"
            ],
            [
             0.9,
             "#4d9221"
            ],
            [
             1,
             "#276419"
            ]
           ],
           "sequential": [
            [
             0,
             "#0d0887"
            ],
            [
             0.1111111111111111,
             "#46039f"
            ],
            [
             0.2222222222222222,
             "#7201a8"
            ],
            [
             0.3333333333333333,
             "#9c179e"
            ],
            [
             0.4444444444444444,
             "#bd3786"
            ],
            [
             0.5555555555555556,
             "#d8576b"
            ],
            [
             0.6666666666666666,
             "#ed7953"
            ],
            [
             0.7777777777777778,
             "#fb9f3a"
            ],
            [
             0.8888888888888888,
             "#fdca26"
            ],
            [
             1,
             "#f0f921"
            ]
           ],
           "sequentialminus": [
            [
             0,
             "#0d0887"
            ],
            [
             0.1111111111111111,
             "#46039f"
            ],
            [
             0.2222222222222222,
             "#7201a8"
            ],
            [
             0.3333333333333333,
             "#9c179e"
            ],
            [
             0.4444444444444444,
             "#bd3786"
            ],
            [
             0.5555555555555556,
             "#d8576b"
            ],
            [
             0.6666666666666666,
             "#ed7953"
            ],
            [
             0.7777777777777778,
             "#fb9f3a"
            ],
            [
             0.8888888888888888,
             "#fdca26"
            ],
            [
             1,
             "#f0f921"
            ]
           ]
          },
          "colorway": [
           "#636efa",
           "#EF553B",
           "#00cc96",
           "#ab63fa",
           "#FFA15A",
           "#19d3f3",
           "#FF6692",
           "#B6E880",
           "#FF97FF",
           "#FECB52"
          ],
          "font": {
           "color": "#2a3f5f"
          },
          "geo": {
           "bgcolor": "white",
           "lakecolor": "white",
           "landcolor": "#E5ECF6",
           "showlakes": true,
           "showland": true,
           "subunitcolor": "white"
          },
          "hoverlabel": {
           "align": "left"
          },
          "hovermode": "closest",
          "mapbox": {
           "style": "light"
          },
          "paper_bgcolor": "white",
          "plot_bgcolor": "#E5ECF6",
          "polar": {
           "angularaxis": {
            "gridcolor": "white",
            "linecolor": "white",
            "ticks": ""
           },
           "bgcolor": "#E5ECF6",
           "radialaxis": {
            "gridcolor": "white",
            "linecolor": "white",
            "ticks": ""
           }
          },
          "scene": {
           "xaxis": {
            "backgroundcolor": "#E5ECF6",
            "gridcolor": "white",
            "gridwidth": 2,
            "linecolor": "white",
            "showbackground": true,
            "ticks": "",
            "zerolinecolor": "white"
           },
           "yaxis": {
            "backgroundcolor": "#E5ECF6",
            "gridcolor": "white",
            "gridwidth": 2,
            "linecolor": "white",
            "showbackground": true,
            "ticks": "",
            "zerolinecolor": "white"
           },
           "zaxis": {
            "backgroundcolor": "#E5ECF6",
            "gridcolor": "white",
            "gridwidth": 2,
            "linecolor": "white",
            "showbackground": true,
            "ticks": "",
            "zerolinecolor": "white"
           }
          },
          "shapedefaults": {
           "line": {
            "color": "#2a3f5f"
           }
          },
          "ternary": {
           "aaxis": {
            "gridcolor": "white",
            "linecolor": "white",
            "ticks": ""
           },
           "baxis": {
            "gridcolor": "white",
            "linecolor": "white",
            "ticks": ""
           },
           "bgcolor": "#E5ECF6",
           "caxis": {
            "gridcolor": "white",
            "linecolor": "white",
            "ticks": ""
           }
          },
          "title": {
           "x": 0.05
          },
          "xaxis": {
           "automargin": true,
           "gridcolor": "white",
           "linecolor": "white",
           "ticks": "",
           "title": {
            "standoff": 15
           },
           "zerolinecolor": "white",
           "zerolinewidth": 2
          },
          "yaxis": {
           "automargin": true,
           "gridcolor": "white",
           "linecolor": "white",
           "ticks": "",
           "title": {
            "standoff": 15
           },
           "zerolinecolor": "white",
           "zerolinewidth": 2
          }
         }
        },
        "title": {
         "text": "Monthly Group Brand Net Sale Yr2023"
        }
       }
      }
     },
     "metadata": {},
     "output_type": "display_data"
    }
   ],
   "source": [
    "# Initialize lists of traces\n",
    "def color_group(x):\n",
    "    if x == 'TM&NT':\n",
    "        return '#85C1E9'\n",
    "    elif x == 'HC&HF':\n",
    "        return '#A9DFBF'\n",
    "    else:\n",
    "        return '#F8C471'\n",
    "    \n",
    "columns_lst_g = df1_4.columns.to_list()\n",
    "color_lst_g = [color_group(x) for x in columns_lst_g]\n",
    "\n",
    "bar_traces = []\n",
    "for i, col in enumerate(df1_4.columns):    \n",
    "    values = df1_4[col].div(1000).round(1)\n",
    "    percentages = (df1_4[col] / df1_4.sum(axis=1) * 100).round(1)\n",
    "    name = [df1_4.columns[i]]*len(df1_4.index)\n",
    "    text_labels = [f\"<b>{v1}M<br>{v2:.1f}%</b>\" for v1, v2 in zip(values, percentages)]\n",
    "    colors_cond = list()\n",
    "\n",
    "    bar_trace = go.Bar(x=df1_4.index, y=df1_4[col],\n",
    "        text=text_labels,\n",
    "        hoverinfo='x+y',\n",
    "        textposition='inside',\n",
    "        insidetextanchor='middle',\n",
    "        name=col,\n",
    "        textangle=0,\n",
    "        marker=dict(color=color_lst_g[i]))\n",
    "    bar_traces.append(bar_trace)\n",
    "\n",
    "values_tot = df1_4.sum(axis=1).values\n",
    "text_labels_line = df1_4.sum(axis=1).div(1000).round(1).apply(lambda val: f'<b style=\"color:#884EA0;\">{val}M</b>').values\n",
    "line_trace = go.Scatter(x=df1_4.index, y=values_tot, \n",
    "                        mode='lines+markers+text', \n",
    "                        line=dict(color='#9B59B6', width=3, dash='dash'), # Customize the line color and width\n",
    "                        marker=dict(\n",
    "                            size=10,  # Customize the marker size\n",
    "                            color='#9B59B6',  # Customize the marker color\n",
    "                            symbol='square',  # Customize the marker symbol\n",
    "                            line=dict(width=1, color='#9B59B6')),   # Customize the marker border                         \n",
    "                        name='Total', \n",
    "                        text=text_labels_line, \n",
    "                        hoverinfo='x+y', \n",
    "                        textposition=\"top center\")   \n",
    "\n",
    "fig = go.Figure(data = bar_traces + [line_trace])\n",
    "\n",
    "# Customize the layout, e.g., stack the bars and add a legend\n",
    "fig.update_layout(barmode='stack', title=\"Monthly Group Brand Net Sale Yr2023\", margin=dict(l=0, r=0, t=50, b=50))  # Adjust the margin to fit the text)\n",
    "fig.update_traces(textfont=dict(size=14), selector=dict(name='Total'))\n",
    "#fig.update_layout(legend_title_text='Legend')\n",
    "fig.show()"
   ]
  },
  {
   "cell_type": "markdown",
   "metadata": {},
   "source": [
    "### DB Perform 19-23 vs DB Master 23-24"
   ]
  },
  {
   "cell_type": "code",
   "execution_count": 246,
   "metadata": {},
   "outputs": [
    {
     "data": {
      "text/html": [
       "<div>\n",
       "<style scoped>\n",
       "    .dataframe tbody tr th:only-of-type {\n",
       "        vertical-align: middle;\n",
       "    }\n",
       "\n",
       "    .dataframe tbody tr th {\n",
       "        vertical-align: top;\n",
       "    }\n",
       "\n",
       "    .dataframe thead th {\n",
       "        text-align: right;\n",
       "    }\n",
       "</style>\n",
       "<table border=\"1\" class=\"dataframe\">\n",
       "  <thead>\n",
       "    <tr style=\"text-align: right;\">\n",
       "      <th></th>\n",
       "      <th>Total Yr2023</th>\n",
       "      <th>M01-12</th>\n",
       "      <th>YTD</th>\n",
       "      <th>Compare1</th>\n",
       "      <th>Compare2</th>\n",
       "    </tr>\n",
       "    <tr>\n",
       "      <th>Brand</th>\n",
       "      <th></th>\n",
       "      <th></th>\n",
       "      <th></th>\n",
       "      <th></th>\n",
       "      <th></th>\n",
       "    </tr>\n",
       "  </thead>\n",
       "  <tbody>\n",
       "    <tr>\n",
       "      <th>PS</th>\n",
       "      <td>46.44</td>\n",
       "      <td>46.44</td>\n",
       "      <td>46.44</td>\n",
       "      <td>True</td>\n",
       "      <td>True</td>\n",
       "    </tr>\n",
       "    <tr>\n",
       "      <th>EF</th>\n",
       "      <td>27.69</td>\n",
       "      <td>27.69</td>\n",
       "      <td>27.69</td>\n",
       "      <td>True</td>\n",
       "      <td>True</td>\n",
       "    </tr>\n",
       "    <tr>\n",
       "      <th>SS</th>\n",
       "      <td>11.73</td>\n",
       "      <td>11.73</td>\n",
       "      <td>11.73</td>\n",
       "      <td>True</td>\n",
       "      <td>True</td>\n",
       "    </tr>\n",
       "    <tr>\n",
       "      <th>ET</th>\n",
       "      <td>6.83</td>\n",
       "      <td>11.03</td>\n",
       "      <td>11.03</td>\n",
       "      <td>False</td>\n",
       "      <td>False</td>\n",
       "    </tr>\n",
       "    <tr>\n",
       "      <th>ER</th>\n",
       "      <td>5.50</td>\n",
       "      <td>5.76</td>\n",
       "      <td>5.76</td>\n",
       "      <td>False</td>\n",
       "      <td>False</td>\n",
       "    </tr>\n",
       "    <tr>\n",
       "      <th>PL</th>\n",
       "      <td>4.61</td>\n",
       "      <td>4.61</td>\n",
       "      <td>4.61</td>\n",
       "      <td>True</td>\n",
       "      <td>True</td>\n",
       "    </tr>\n",
       "    <tr>\n",
       "      <th>CS</th>\n",
       "      <td>1.43</td>\n",
       "      <td>1.43</td>\n",
       "      <td>1.43</td>\n",
       "      <td>True</td>\n",
       "      <td>True</td>\n",
       "    </tr>\n",
       "    <tr>\n",
       "      <th>GY</th>\n",
       "      <td>0.00</td>\n",
       "      <td>NaN</td>\n",
       "      <td>NaN</td>\n",
       "      <td>False</td>\n",
       "      <td>False</td>\n",
       "    </tr>\n",
       "    <tr>\n",
       "      <th>Grand_Total</th>\n",
       "      <td>104.23</td>\n",
       "      <td>108.69</td>\n",
       "      <td>108.69</td>\n",
       "      <td>False</td>\n",
       "      <td>False</td>\n",
       "    </tr>\n",
       "  </tbody>\n",
       "</table>\n",
       "</div>"
      ],
      "text/plain": [
       "             Total Yr2023  M01-12     YTD  Compare1  Compare2\n",
       "Brand                                                        \n",
       "PS                  46.44   46.44   46.44      True      True\n",
       "EF                  27.69   27.69   27.69      True      True\n",
       "SS                  11.73   11.73   11.73      True      True\n",
       "ET                   6.83   11.03   11.03     False     False\n",
       "ER                   5.50    5.76    5.76     False     False\n",
       "PL                   4.61    4.61    4.61      True      True\n",
       "CS                   1.43    1.43    1.43      True      True\n",
       "GY                   0.00     NaN     NaN     False     False\n",
       "Grand_Total        104.23  108.69  108.69     False     False"
      ]
     },
     "execution_count": 246,
     "metadata": {},
     "output_type": "execute_result"
    }
   ],
   "source": [
    "group_brand = ['ROX']\n",
    "# DB Perform 19-23\n",
    "# 2023, Net Sale, M01-12, No CL\n",
    "df1_1 = df1[(df1['Year'] == '2023') & (df1['Acc_Name'].isin(['Net Sale'])) & (df1['Brand'] != 'CL') & (df1['Group_brand'].isin(group_brand))][df1.columns.values[0: 4].tolist() + ['M01-12']]\n",
    "df1_1 = df1_1.sort_values(by=['M01-12'], ascending=False)\n",
    "\n",
    "df1_2 = df1_1.groupby(['Brand'])['M01-12'].sum().reset_index()\n",
    "df1_2.sort_values(by='M01-12', ascending=False, inplace=True)\n",
    "df1_2['M01-12'] = df1_2['M01-12'].div(1000).round(2)\n",
    "df1_2\n",
    "\n",
    "# DB Master 23-24\n",
    "df2_1 = df2[(df2['Acc_Name'] == 'Net Sale') & (df2['Group_brand'].isin(group_brand))][['Brand', 'Total Yr2023']]\n",
    "df2_1.sort_values(by='Total Yr2023', ascending=False, inplace=True)\n",
    "df2_1['Total Yr2023'] = df2_1['Total Yr2023'].div(1000).round(2)\n",
    "\n",
    "# DB AT Offline\n",
    "df3_1 = df3[(df3['Acc_Name'] == 'Net Sale') & (df3['Group_brand'].isin(group_brand))][['Brand', 'YTD']\n",
    "                                             ].groupby('Brand')['YTD'].sum().reset_index()\n",
    "df3_1.sort_values(by='YTD', ascending=False, inplace=True)\n",
    "df3_1['YTD'] = df3_1['YTD'].div(1000).round(2)\n",
    "\n",
    "# Join (VS)\n",
    "df2_2 = pd.merge(df2_1, df1_2, how='left', on='Brand')\n",
    "df2_2 = pd.merge(df2_2, df3_1, how='left', on='Brand')\n",
    "\n",
    "df2_2.set_index('Brand', inplace=True)\n",
    "df2_2.loc['Grand_Total'] = df2_2.sum(axis=0)\n",
    "df2_2['Compare1'] = df2_2.apply(lambda d: True if d['Total Yr2023'] == d['M01-12'] else False, axis=1)\n",
    "df2_2['Compare2'] = df2_2.apply(lambda d: True if d['Total Yr2023'] == d['YTD'] else False, axis=1)\n",
    "df2_2"
   ]
  },
  {
   "cell_type": "markdown",
   "metadata": {},
   "source": [
    "### DB AT Offline 23 vs DB Master Channel 23 [ Channel ]"
   ]
  },
  {
   "cell_type": "code",
   "execution_count": 241,
   "metadata": {},
   "outputs": [
    {
     "data": {
      "text/html": [
       "<div>\n",
       "<style scoped>\n",
       "    .dataframe tbody tr th:only-of-type {\n",
       "        vertical-align: middle;\n",
       "    }\n",
       "\n",
       "    .dataframe tbody tr th {\n",
       "        vertical-align: top;\n",
       "    }\n",
       "\n",
       "    .dataframe thead th {\n",
       "        text-align: right;\n",
       "    }\n",
       "</style>\n",
       "<table border=\"1\" class=\"dataframe\">\n",
       "  <thead>\n",
       "    <tr style=\"text-align: right;\">\n",
       "      <th></th>\n",
       "      <th>Channel</th>\n",
       "      <th>YTD</th>\n",
       "      <th>Total\\nYr2023</th>\n",
       "      <th>M01-12</th>\n",
       "    </tr>\n",
       "  </thead>\n",
       "  <tbody>\n",
       "    <tr>\n",
       "      <th>0</th>\n",
       "      <td>Online</td>\n",
       "      <td>45.02</td>\n",
       "      <td>44.89</td>\n",
       "      <td>45.02</td>\n",
       "    </tr>\n",
       "    <tr>\n",
       "      <th>1</th>\n",
       "      <td>Shop</td>\n",
       "      <td>23.06</td>\n",
       "      <td>18.84</td>\n",
       "      <td>23.06</td>\n",
       "    </tr>\n",
       "    <tr>\n",
       "      <th>2</th>\n",
       "      <td>Wholesales</td>\n",
       "      <td>22.04</td>\n",
       "      <td>21.92</td>\n",
       "      <td>22.04</td>\n",
       "    </tr>\n",
       "    <tr>\n",
       "      <th>3</th>\n",
       "      <td>Event</td>\n",
       "      <td>10.33</td>\n",
       "      <td>10.34</td>\n",
       "      <td>10.33</td>\n",
       "    </tr>\n",
       "    <tr>\n",
       "      <th>4</th>\n",
       "      <td>Depart</td>\n",
       "      <td>8.23</td>\n",
       "      <td>8.23</td>\n",
       "      <td>8.23</td>\n",
       "    </tr>\n",
       "    <tr>\n",
       "      <th>5</th>\n",
       "      <td>Grand Total</td>\n",
       "      <td>108.69</td>\n",
       "      <td>104.23</td>\n",
       "      <td>108.69</td>\n",
       "    </tr>\n",
       "  </tbody>\n",
       "</table>\n",
       "</div>"
      ],
      "text/plain": [
       "       Channel     YTD  Total\\nYr2023  M01-12\n",
       "0       Online   45.02          44.89   45.02\n",
       "1         Shop   23.06          18.84   23.06\n",
       "2   Wholesales   22.04          21.92   22.04\n",
       "3        Event   10.33          10.34   10.33\n",
       "4       Depart    8.23           8.23    8.23\n",
       "5  Grand Total  108.69         104.23  108.69"
      ]
     },
     "metadata": {},
     "output_type": "display_data"
    }
   ],
   "source": [
    "group_brand = ['ROX']\n",
    "# DB Master Channel 23\n",
    "df4_1 = df4[(df4['Acc_Name'] == 'Net Sale') & (df4['Group_brand'].isin(group_brand))].groupby('Channel')['Total\\nYr2023'].sum().reset_index()\n",
    "df4_1.sort_values(by='Total\\nYr2023', ascending=False, inplace=True)\n",
    "\n",
    "df4_1.set_index('Channel', inplace=True)\n",
    "df4_1.loc['Grand Total'] = df4_1.sum(axis=0)\n",
    "df4_1.reset_index(inplace=True)\n",
    "\n",
    "df4_1['Total\\nYr2023'] = df4_1['Total\\nYr2023'].div(1000).round(2)\n",
    "\n",
    "# DB AT Offline 23\n",
    "df3_2 = df3[(df3['Acc_Name'] == 'Net Sale') & (df3['Group_brand'].isin(group_brand))].groupby('Channel')['YTD'].sum().reset_index()\n",
    "df3_2.sort_values(by='YTD', ascending=False, inplace=True)\n",
    "\\\n",
    "df3_2.set_index('Channel', inplace=True)\n",
    "df3_2.loc['Grand Total'] = df3_2.sum(axis=0)\n",
    "df3_2.reset_index('Channel', inplace=True)\n",
    "\n",
    "df3_2['YTD'] = df3_2['YTD'].div(1000).round(2)\n",
    "\n",
    "# DB Perform 19-23\n",
    "df1_5 = df1[(df1['Year'] == '2023') & (df1['Acc_Name'].isin(['Net Sale'])) & (df1['Brand'] != 'CL') & (df1['Group_brand'].isin(\n",
    "    group_brand))].groupby(['Channel'])['M01-12'].sum().reset_index().sort_values(by=['M01-12'], ascending=False).set_index('Channel')\n",
    "\n",
    "df1_5.loc['Grand Total'] = df1_5.sum(axis=0)\n",
    "df1_5 = df1_5.div(1000).round(2).reset_index()\n",
    "\n",
    "# join vs\n",
    "df3_3 = pd.merge(df3_2, df4_1, how='left', on='Channel')\n",
    "df3_3 = pd.merge(df3_3, df1_5, how='left', on='Channel')\n",
    "display(df3_3)"
   ]
  },
  {
   "cell_type": "code",
   "execution_count": 243,
   "metadata": {},
   "outputs": [
    {
     "data": {
      "text/html": [
       "<div>\n",
       "<style scoped>\n",
       "    .dataframe tbody tr th:only-of-type {\n",
       "        vertical-align: middle;\n",
       "    }\n",
       "\n",
       "    .dataframe tbody tr th {\n",
       "        vertical-align: top;\n",
       "    }\n",
       "\n",
       "    .dataframe thead th {\n",
       "        text-align: right;\n",
       "    }\n",
       "</style>\n",
       "<table border=\"1\" class=\"dataframe\">\n",
       "  <thead>\n",
       "    <tr style=\"text-align: right;\">\n",
       "      <th></th>\n",
       "      <th>Off_On</th>\n",
       "      <th>M01-12</th>\n",
       "      <th>Total\\nYr2023</th>\n",
       "    </tr>\n",
       "  </thead>\n",
       "  <tbody>\n",
       "    <tr>\n",
       "      <th>0</th>\n",
       "      <td>Offline</td>\n",
       "      <td>63.67</td>\n",
       "      <td>59.33</td>\n",
       "    </tr>\n",
       "    <tr>\n",
       "      <th>1</th>\n",
       "      <td>Online</td>\n",
       "      <td>45.02</td>\n",
       "      <td>44.89</td>\n",
       "    </tr>\n",
       "    <tr>\n",
       "      <th>2</th>\n",
       "      <td>Grand Total</td>\n",
       "      <td>108.69</td>\n",
       "      <td>104.23</td>\n",
       "    </tr>\n",
       "  </tbody>\n",
       "</table>\n",
       "</div>"
      ],
      "text/plain": [
       "        Off_On  M01-12  Total\\nYr2023\n",
       "0      Offline   63.67          59.33\n",
       "1       Online   45.02          44.89\n",
       "2  Grand Total  108.69         104.23"
      ]
     },
     "metadata": {},
     "output_type": "display_data"
    }
   ],
   "source": [
    "group_brand = ['ROX']\n",
    "# DB Perform 19-23\n",
    "df1_6 = df1[(df1['Year'] == '2023') & (df1['Acc_Name'].isin(['Net Sale'])) & (df1['Brand'] != 'CL') & (df1['Group_brand'].isin(\n",
    "    group_brand))].groupby(['Off_On'])['M01-12'].sum().reset_index().sort_values(by=['M01-12'], ascending=False).set_index('Off_On')\n",
    "\n",
    "df1_6.loc['Grand Total'] = df1_6.sum(axis=0)\n",
    "df1_6 = df1_6.div(1000).round(2).reset_index()\n",
    "\n",
    "# DB Master Channel 23\n",
    "df4_2 = df4[(df4['Acc_Name'] == 'Net Sale') & (df4['Group_brand'].isin(group_brand))].groupby('Off_On')['Total\\nYr2023'].sum().reset_index().sort_values(by='Total\\nYr2023', ascending=False).set_index('Off_On')\n",
    "\n",
    "df4_2.loc['Grand Total'] = df4_2.sum(axis=0)\n",
    "df4_2 = df4_2.div(1000).round(2).reset_index()\n",
    "\n",
    "# Join\n",
    "df1_6 = pd.merge(df1_6, df4_2, how='left', on='Off_On')\n",
    "\n",
    "display(df1_6)"
   ]
  },
  {
   "cell_type": "code",
   "execution_count": null,
   "metadata": {},
   "outputs": [],
   "source": []
  }
 ],
 "metadata": {
  "kernelspec": {
   "display_name": "Python 3",
   "language": "python",
   "name": "python3"
  },
  "language_info": {
   "codemirror_mode": {
    "name": "ipython",
    "version": 3
   },
   "file_extension": ".py",
   "mimetype": "text/x-python",
   "name": "python",
   "nbconvert_exporter": "python",
   "pygments_lexer": "ipython3",
   "version": "3.10.9"
  }
 },
 "nbformat": 4,
 "nbformat_minor": 2
}
